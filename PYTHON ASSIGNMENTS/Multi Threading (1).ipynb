{
 "cells": [
  {
   "cell_type": "markdown",
   "id": "72cef76b-6365-4778-ad23-f04441271a45",
   "metadata": {},
   "source": [
    "Q1. what is multithreading in python? why is it used? Name the module used to handle threads in python"
   ]
  },
  {
   "cell_type": "code",
   "execution_count": null,
   "id": "261101dd-e70d-466d-9bc6-ae2f05c3573d",
   "metadata": {},
   "outputs": [],
   "source": [
    "\"\"\"\n",
    "Multithreading in Python enables concurrent execution of multiple threads within a single process. \n",
    "Threads are lightweight units of execution that allow different parts of a program to run simultaneously. \n",
    "Multithreading is used to improve program efficiency and responsiveness by enabling tasks to execute concurrently, \n",
    "making efficient use of system resources. It is beneficial for scenarios such as handling multiple I/O operations, \n",
    "performing time-consuming tasks without blocking the main program, or utilizing multiple CPU cores for faster computations. \n",
    "The //threading module// in Python provides a high-level interface for creating, managing, and synchronizing threads, \n",
    "allowing developers to control thread execution, share data, and handle synchronization mechanisms.\n",
    "\"\"\""
   ]
  },
  {
   "cell_type": "markdown",
   "id": "792cc433-25fb-4c10-9614-11e79e0cb8e5",
   "metadata": {},
   "source": [
    "Q2. Why threading module used? write the use of the following functions :-\n",
    "\n",
    "1. activeCount()\n",
    "2. currentThread()\n",
    "3. enumerate()"
   ]
  },
  {
   "cell_type": "code",
   "execution_count": null,
   "id": "9c746924-077d-4c1b-b0b9-e0623f371c6e",
   "metadata": {},
   "outputs": [],
   "source": [
    "\"\"\"\n",
    "The \"threading\" module in Python is used to handle threads and provides a high-level interface for creating, \n",
    "controlling, and synchronizing threads. It offers several functions to manage and work with threads. \n",
    "\n",
    "Here's the use of the following functions:\n",
    "\n",
    "1. activeCount() : This function returns the number of currently active \"Thread\" objects in the program. \n",
    "                   It helps in determining the number of active threads at any given moment.\n",
    "\n",
    "2. currentThread() : This function returns the currently executing \"Thread\" object. \n",
    "                   It provides a way to access the thread instance representing the currently executing thread. \n",
    "                   This can be useful for various purposes, such as obtaining information about the thread \n",
    "                   or accessing thread-specific data.\n",
    "\n",
    "3. enumerate() : This function returns a list of all currently active \"Thread\" objects.\n",
    "                 It allows you to retrieve a list of all threads currently running in the program. \n",
    "                 The list includes both daemon and non-daemon threads.\n",
    "\n",
    "\n",
    "\"\"\""
   ]
  },
  {
   "cell_type": "markdown",
   "id": "276d1e71-a809-4e97-9391-76fccd7c8d6f",
   "metadata": {},
   "source": [
    "Q3. Explain the following functions\n",
    "1. run()\n",
    "2. start()\n",
    "3. join()\n",
    "4. isAlive()"
   ]
  },
  {
   "cell_type": "code",
   "execution_count": null,
   "id": "9fa5ad05-beeb-4881-a3c2-55beb230e7b1",
   "metadata": {},
   "outputs": [],
   "source": [
    "\"\"\"\n",
    "1. run(): This method is called when a Thread object is started using the start() method. \n",
    "          It contains the code that will be executed in the separate thread. \n",
    "          You can override this method in a subclass of Thread to define the specific behavior \n",
    "          or task that the thread should perform.\n",
    "\n",
    "2. start(): This method starts the execution of a Thread object. It initializes the thread, \n",
    "            calls the run() method internally, and begins the concurrent execution of the thread. \n",
    "            It should be called only once per thread object. Once started, the thread will run independently in the background.\n",
    "\n",
    "3. join(): This method is used to synchronize the execution of threads. \n",
    "           When a thread calls the join() method on another thread, \n",
    "           it waits for that thread to complete its execution before continuing. \n",
    "           It allows one thread to wait for the completion of another thread. \n",
    "           This method is often used to ensure that the main program waits for all threads to finish before exiting.\n",
    "\n",
    "4. isAlive(): This method is used to check if a thread is currently executing or alive. \n",
    "              It returns a boolean value indicating whether the thread is still running (True) or \n",
    "              has completed its execution (False). It can be useful to determine the status of a thread \n",
    "              and make decisions based on its state.\n",
    "\"\"\""
   ]
  },
  {
   "cell_type": "markdown",
   "id": "6f642c09-1e59-40d5-8ec2-42cdc5f8d9d1",
   "metadata": {},
   "source": [
    "Q4. write a python program to create two threads. Thread one must print the list of squares and thread\n",
    "two must print the list of cubes."
   ]
  },
  {
   "cell_type": "code",
   "execution_count": 1,
   "id": "32abc99b-2689-47dc-b168-41657b090b72",
   "metadata": {},
   "outputs": [
    {
     "name": "stdout",
     "output_type": "stream",
     "text": [
      "Square of 1: 1\n",
      "Square of 2: 4\n",
      "Square of 3: 9\n",
      "Square of 4: 16\n",
      "Square of 5: 25\n",
      "Square of 6: 36\n",
      "Square of 7: 49\n",
      "Square of 8: 64\n",
      "Square of 9: 81\n",
      "Square of 10: 100\n",
      "Cube of 1: 1\n",
      "Cube of 2: 8\n",
      "Cube of 3: 27\n",
      "Cube of 4: 64\n",
      "Cube of 5: 125\n",
      "Cube of 6: 216\n",
      "Cube of 7: 343\n",
      "Cube of 8: 512\n",
      "Cube of 9: 729\n",
      "Cube of 10: 1000\n"
     ]
    }
   ],
   "source": [
    "import threading\n",
    "\n",
    "def print_squares():\n",
    "    for num in range(1, 11):\n",
    "        square = num ** 2\n",
    "        print(f\"Square of {num}: {square}\")\n",
    "\n",
    "def print_cubes():\n",
    "    for num in range(1, 11):\n",
    "        cube = num ** 3\n",
    "        print(f\"Cube of {num}: {cube}\")\n",
    "\n",
    "# Create the first thread for printing squares\n",
    "thread1 = threading.Thread(target=print_squares)\n",
    "\n",
    "# Create the second thread for printing cubes\n",
    "thread2 = threading.Thread(target=print_cubes)\n",
    "\n",
    "# Start both threads\n",
    "thread1.start()\n",
    "thread2.start()\n",
    "\n",
    "# Wait for both threads to finish\n",
    "thread1.join()\n",
    "thread2.join()\n"
   ]
  },
  {
   "cell_type": "markdown",
   "id": "ed6a0f95-029c-423c-8c13-acb19adac5e0",
   "metadata": {},
   "source": [
    "Q5. State advantages and disadvantages of multithreading."
   ]
  },
  {
   "cell_type": "code",
   "execution_count": null,
   "id": "dcde11b0-1c93-4a45-b6b3-2fbb7ee2a790",
   "metadata": {},
   "outputs": [],
   "source": [
    "\"\"\"\n",
    "\n",
    "Advantages of Multithreading:\n",
    "\n",
    "1. Concurrency and Responsiveness : Multithreading enables concurrent execution of multiple tasks within a program. \n",
    "                                    It improves responsiveness by allowing tasks to run in parallel, ensuring that \n",
    "                                    the program remains responsive even during time-consuming operations.\n",
    "\n",
    "2. Resource Utilization : Multithreading allows for efficient utilization of system resources, such as CPU cores. \n",
    "                          By distributing tasks among multiple threads, it maximizes the utilization of available \n",
    "                          processing power and can lead to improved performance.\n",
    "\n",
    "3. Efficient I/O Operations : Multithreading is beneficial for programs that involve I/O operations, \n",
    "                              such as reading from or writing to files or network communication. \n",
    "                              While one thread waits for an I/O operation to complete, other threads can continue executing, \n",
    "                              ensuring that the program doesn't waste time waiting for I/O.\n",
    "\n",
    "4. Modularity and Code Organization : Multithreading promotes modularity in program design by allowing different tasks or \n",
    "                                      components to be implemented as separate threads. This improves code organization, \n",
    "                                      readability, and maintainability.\n",
    "\n",
    "Disadvantages of Multithreading:\n",
    "\n",
    "1. Complexity and Synchronization : Multithreading introduces complexity due to potential synchronization issues. \n",
    "                                    Threads may access shared resources simultaneously, leading to race conditions \n",
    "                                    and data inconsistency. Proper synchronization mechanisms like locks or semaphores are \n",
    "                                    required to ensure thread safety, adding complexity to the code.\n",
    "\n",
    "2. Increased Memory Consumption : Each thread in a program has its own stack and associated data structures, \n",
    "                                  which consume additional memory. Creating a large number of threads can result in increased \n",
    "                                  memory consumption and may impact the overall performance of the program.\n",
    "\n",
    "3. Debugging and Testing Challenges : Debugging multithreaded programs can be challenging. Issues such as race conditions \n",
    "                                      and deadlocks may occur, and identifying their root causes can be difficult. \n",
    "                                      Testing multithreaded programs thoroughly to uncover potential concurrency issues \n",
    "                                      also requires careful consideration.\n",
    "\n",
    "4. Potential Performance Overhead : Although multithreading can improve performance by leveraging parallelism, \n",
    "                                    it is not always the case. Introducing threads and managing synchronization mechanisms \n",
    "                                    can add overhead and introduce additional complexity. In some cases, the overhead may \n",
    "                                    outweigh the benefits of parallel execution.\n",
    "\n",
    "\n",
    "\"\"\""
   ]
  },
  {
   "cell_type": "markdown",
   "id": "ed1f4647-822f-4a25-8783-2c27d42326e7",
   "metadata": {},
   "source": [
    "Q6. Explain deadlocks and race conditions."
   ]
  },
  {
   "cell_type": "code",
   "execution_count": null,
   "id": "297592fa-6a0f-47a9-9374-4e27eec3d83a",
   "metadata": {},
   "outputs": [],
   "source": [
    "\"\"\"\n",
    "Deadlock : occurs when two or more threads are stuck indefinitely, waiting for each other to release resources. \n",
    "           It creates a circular dependency where each thread holds a resource needed by another thread,  \n",
    "           resulting in a program deadlock. Preventing deadlocks involves careful resource management and \n",
    "           avoiding circular dependencies.\n",
    "\n",
    "Race : condition arises when multiple threads access shared data concurrently, leading to unpredictable outcomes. \n",
    "       It occurs when the result depends on the timing or interleaving of operations among threads. \n",
    "       Race conditions can cause data corruption and bugs. Synchronization mechanisms like locks or semaphores are \n",
    "       used to ensure mutual exclusion and prevent race conditions. Proper synchronization guarantees data integrity \n",
    "       and prevents race conditions.\n",
    "\n",
    "\n",
    "\"\"\""
   ]
  }
 ],
 "metadata": {
  "kernelspec": {
   "display_name": "Python 3 (ipykernel)",
   "language": "python",
   "name": "python3"
  },
  "language_info": {
   "codemirror_mode": {
    "name": "ipython",
    "version": 3
   },
   "file_extension": ".py",
   "mimetype": "text/x-python",
   "name": "python",
   "nbconvert_exporter": "python",
   "pygments_lexer": "ipython3",
   "version": "3.10.8"
  }
 },
 "nbformat": 4,
 "nbformat_minor": 5
}
