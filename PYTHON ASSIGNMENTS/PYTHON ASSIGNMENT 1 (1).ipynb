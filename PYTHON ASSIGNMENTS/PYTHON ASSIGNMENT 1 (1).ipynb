{
 "cells": [
  {
   "cell_type": "markdown",
   "id": "0d072807-52b3-4544-b178-49733f65a66a",
   "metadata": {},
   "source": [
    "Q1. Which keyword is used to create a function? Create a function to return a list of odd numbers in the\n",
    "range of 1 to 25."
   ]
  },
  {
   "cell_type": "code",
   "execution_count": 1,
   "id": "d853bd48-0408-481a-a41e-2b0e60863b11",
   "metadata": {},
   "outputs": [
    {
     "name": "stdout",
     "output_type": "stream",
     "text": [
      "[1, 3, 5, 7, 9, 11, 13, 15, 17, 19, 21, 23, 25]\n"
     ]
    }
   ],
   "source": [
    "## def keyword is used to create a function.\n",
    "\n",
    "def odd():\n",
    "    Odd_num_list = []\n",
    "    for i in range(1,26):\n",
    "        if i%2 != 0 :\n",
    "            Odd_num_list.append(i)\n",
    "    return Odd_num_list\n",
    "    \n",
    "Result = odd()\n",
    "print(Result)"
   ]
  },
  {
   "cell_type": "markdown",
   "id": "4ad6e453-4c50-4c7e-894e-f1c1d0261d0d",
   "metadata": {},
   "source": [
    "Q2. Why *args and **kwargs is used in some functions? Create a function each for *args and **kwargs\n",
    "to demonstrate their use."
   ]
  },
  {
   "cell_type": "code",
   "execution_count": 2,
   "id": "c1776616-71d6-45fb-8c59-0933eedacd53",
   "metadata": {},
   "outputs": [
    {
     "data": {
      "text/plain": [
       "('Sahil', 'Bhuvan', 'Abdul', 'Vicky')"
      ]
     },
     "execution_count": 2,
     "metadata": {},
     "output_type": "execute_result"
    }
   ],
   "source": [
    "## *args is used for passing multiple number of arguments and if user want the data in key value pair (in dictionary) we used **kwargs\n",
    "\n",
    "def name(*args):\n",
    "    return args\n",
    "\n",
    "name(\"Sahil\", \"Bhuvan\", \"Abdul\", \"Vicky\")"
   ]
  },
  {
   "cell_type": "code",
   "execution_count": 3,
   "id": "e6aabf52-788b-41cf-8fd1-eb5136523e03",
   "metadata": {},
   "outputs": [
    {
     "data": {
      "text/plain": [
       "{'name': ['Sahil', 'Bhuvan', 'Vicky'],\n",
       " 'roll_no': [25, 35, 15],\n",
       " 'Dept': ['CE', 'ME', 'CS']}"
      ]
     },
     "execution_count": 3,
     "metadata": {},
     "output_type": "execute_result"
    }
   ],
   "source": [
    "def names(**kwargs):\n",
    "    return kwargs\n",
    "\n",
    "names(name = [\"Sahil\", \"Bhuvan\",\"Vicky\"] , roll_no = [25,35,15] , Dept = [\"CE\",\"ME\",\"CS\"])"
   ]
  },
  {
   "cell_type": "markdown",
   "id": "e4a88c9a-fde4-414d-8161-73fa43e5e423",
   "metadata": {},
   "source": [
    "Q3. What is an iterator in python? Name the method used to initialise the iterator object and the method\n",
    "used for iteration. Use these methods to print the first five elements of the given list [2, 4, 6, 8, 10, 12, 14,\n",
    "16, 18, 20]."
   ]
  },
  {
   "cell_type": "code",
   "execution_count": 4,
   "id": "c19d0a0c-0a92-4ef8-93e1-171ff228f138",
   "metadata": {},
   "outputs": [
    {
     "name": "stdout",
     "output_type": "stream",
     "text": [
      "2\n",
      "4\n",
      "6\n",
      "8\n",
      "10\n"
     ]
    }
   ],
   "source": [
    "# In Python, an iterator is an object that implements the iterator protocol, which consists of two methods: __iter__() and __next__()\n",
    "\n",
    "\n",
    "number = [2, 4, 6, 8, 10, 12, 14, 16, 18, 20]\n",
    "\n",
    "iterator = iter(number)\n",
    "\n",
    "for i in range(5):\n",
    "    elements = next(iterator)\n",
    "    print(elements)\n",
    "    "
   ]
  },
  {
   "cell_type": "markdown",
   "id": "a522080d-c88f-452f-9f42-3671792fe7c0",
   "metadata": {},
   "source": [
    "Q4. What is a generator function in python? Why yield keyword is used? Give an example of a generator\n",
    "function."
   ]
  },
  {
   "cell_type": "code",
   "execution_count": 5,
   "id": "9597381c-cb4a-41ab-9784-67af3ea57988",
   "metadata": {},
   "outputs": [
    {
     "name": "stdout",
     "output_type": "stream",
     "text": [
      "0\n",
      "1\n",
      "1\n",
      "2\n",
      "3\n",
      "5\n",
      "8\n",
      "13\n",
      "21\n",
      "34\n"
     ]
    }
   ],
   "source": [
    "# A generator function in Python is a special type of function that returns an iterator.\n",
    "\n",
    "def fibonacci():\n",
    "    a, b = 0, 1\n",
    "    while True:\n",
    "        yield a\n",
    "        a, b = b, a + b\n",
    "\n",
    "fib_gen = fibonacci()\n",
    "for _ in range(10):\n",
    "    fib_num = next(fib_gen)\n",
    "    print(fib_num)"
   ]
  },
  {
   "cell_type": "markdown",
   "id": "61e5a156-7d81-4b5d-84f0-db3f5fe6ead7",
   "metadata": {},
   "source": [
    "Q5. Create a generator function for prime numbers less than 1000. Use the next() method to print the\n",
    "first 20 prime numbers."
   ]
  },
  {
   "cell_type": "code",
   "execution_count": 6,
   "id": "b20dbc4a-ad31-465a-ad4f-bc3ff3138643",
   "metadata": {},
   "outputs": [
    {
     "name": "stdout",
     "output_type": "stream",
     "text": [
      "2\n",
      "3\n",
      "5\n",
      "7\n",
      "11\n",
      "13\n",
      "17\n",
      "19\n",
      "23\n",
      "29\n",
      "31\n",
      "37\n",
      "41\n",
      "43\n",
      "47\n",
      "53\n",
      "59\n",
      "61\n",
      "67\n",
      "71\n"
     ]
    }
   ],
   "source": [
    "def prime_generator():\n",
    "    primes = []\n",
    "    num = 2\n",
    "    while num < 1000:\n",
    "        if all(num % prime != 0 for prime in primes):\n",
    "            primes.append(num)\n",
    "            yield num\n",
    "        num += 1\n",
    "\n",
    "prime_gen = prime_generator()\n",
    "\n",
    "for _ in range(20):\n",
    "    prime_num = next(prime_gen)\n",
    "    print(prime_num)"
   ]
  },
  {
   "cell_type": "markdown",
   "id": "32ff2c63-a2e7-463f-aceb-2ba34b84fc84",
   "metadata": {},
   "source": [
    "Q6. Write a python program to print the first 10 Fibonacci numbers using a while loop."
   ]
  },
  {
   "cell_type": "code",
   "execution_count": 37,
   "id": "60c881b6-cdab-4440-904a-d9b3811a7047",
   "metadata": {},
   "outputs": [
    {
     "name": "stdout",
     "output_type": "stream",
     "text": [
      "0\n",
      "1\n",
      "1\n",
      "2\n",
      "3\n",
      "5\n",
      "8\n",
      "13\n",
      "21\n",
      "34\n"
     ]
    }
   ],
   "source": [
    "def Fibonaaci():\n",
    "    a = 0\n",
    "    b = 1\n",
    "    count = 0\n",
    "    while count < 10:\n",
    "        print(a)\n",
    "        a , b = b , a+b\n",
    "        count += 1\n",
    "Fibonaaci()"
   ]
  },
  {
   "cell_type": "markdown",
   "id": "daa97c7a-2f22-48cd-a65e-7ac49610b7b7",
   "metadata": {},
   "source": [
    "Q7. Write a List Comprehension to iterate through the given string: ‘pwskills’.\n",
    "Expected output: ['p', 'w', 's', 'k', 'i', 'l', 'l', 's']"
   ]
  },
  {
   "cell_type": "code",
   "execution_count": 52,
   "id": "c5d4ce32-ba0c-4cd3-b70b-c6807a183b58",
   "metadata": {},
   "outputs": [
    {
     "data": {
      "text/plain": [
       "['p', 'w', 's', 'k', 'i', 'l', 'l', 's']"
      ]
     },
     "execution_count": 52,
     "metadata": {},
     "output_type": "execute_result"
    }
   ],
   "source": [
    "string = \"pwskills\"\n",
    "lists1 = [i for i in string]\n",
    "\n",
    "lists1"
   ]
  },
  {
   "cell_type": "markdown",
   "id": "260fa6cc-3fe1-4e75-8fd4-868e3639f778",
   "metadata": {},
   "source": [
    "Q8. Write a python program to check whether a given number is Palindrome or not using a while loop."
   ]
  },
  {
   "cell_type": "code",
   "execution_count": 58,
   "id": "fa3f145e-63c0-4abe-bb56-81cc6352e667",
   "metadata": {},
   "outputs": [
    {
     "name": "stdin",
     "output_type": "stream",
     "text": [
      "Enter a number:  121\n"
     ]
    },
    {
     "name": "stdout",
     "output_type": "stream",
     "text": [
      "121 is a palindrome.\n"
     ]
    }
   ],
   "source": [
    "def is_palindrome(number):\n",
    "    original_number = number\n",
    "    reverse_number = 0\n",
    "\n",
    "    while number > 0:\n",
    "        digit = number % 10\n",
    "        reverse_number = (reverse_number * 10) + digit\n",
    "        number //= 10\n",
    "\n",
    "    if original_number == reverse_number:\n",
    "        return True\n",
    "    else:\n",
    "        return False\n",
    "\n",
    "# Taking input from the user\n",
    "number = int(input(\"Enter a number: \"))\n",
    "\n",
    "# Checking if the number is a palindrome\n",
    "if is_palindrome(number):\n",
    "    print(f\"{number} is a palindrome.\")\n",
    "else:\n",
    "    print(f\"{number} is not a palindrome.\")\n"
   ]
  },
  {
   "cell_type": "markdown",
   "id": "1db91462-acee-43ad-a4ec-1af9a2b97eaf",
   "metadata": {},
   "source": [
    "Q9. Write a code to print odd numbers from 1 to 100 using list comprehension.\n",
    "\n",
    "Note: Use a list comprehension to create a list from 1 to 100 and use another List comprehension to filter\n",
    "out odd numbers."
   ]
  },
  {
   "cell_type": "code",
   "execution_count": 59,
   "id": "43984ba0-8161-4026-ab3b-f7a65819e053",
   "metadata": {},
   "outputs": [
    {
     "name": "stdout",
     "output_type": "stream",
     "text": [
      "[1, 3, 5, 7, 9, 11, 13, 15, 17, 19, 21, 23, 25, 27, 29, 31, 33, 35, 37, 39, 41, 43, 45, 47, 49, 51, 53, 55, 57, 59, 61, 63, 65, 67, 69, 71, 73, 75, 77, 79, 81, 83, 85, 87, 89, 91, 93, 95, 97, 99]\n"
     ]
    }
   ],
   "source": [
    "odd_numbers = [num for num in range(1, 101) if num % 2 != 0]\n",
    "print(odd_numbers)"
   ]
  },
  {
   "cell_type": "code",
   "execution_count": null,
   "id": "8a318ad5-92cf-455c-a23e-4be5b1719144",
   "metadata": {},
   "outputs": [],
   "source": []
  },
  {
   "cell_type": "code",
   "execution_count": null,
   "id": "b8551074-11b2-44d1-bdf8-d0d59df1c865",
   "metadata": {},
   "outputs": [],
   "source": []
  },
  {
   "cell_type": "code",
   "execution_count": null,
   "id": "f1a541e7-0904-45e3-b076-f195bc259b92",
   "metadata": {},
   "outputs": [],
   "source": []
  }
 ],
 "metadata": {
  "kernelspec": {
   "display_name": "Python 3 (ipykernel)",
   "language": "python",
   "name": "python3"
  },
  "language_info": {
   "codemirror_mode": {
    "name": "ipython",
    "version": 3
   },
   "file_extension": ".py",
   "mimetype": "text/x-python",
   "name": "python",
   "nbconvert_exporter": "python",
   "pygments_lexer": "ipython3",
   "version": "3.10.8"
  }
 },
 "nbformat": 4,
 "nbformat_minor": 5
}
