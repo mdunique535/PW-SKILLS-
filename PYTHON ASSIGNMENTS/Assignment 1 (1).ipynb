{
 "cells": [
  {
   "cell_type": "markdown",
   "id": "ce7f8586-9609-4c19-81c1-ca1e525bcb23",
   "metadata": {},
   "source": [
    "Q1. Create one variable containing following type of data:"
   ]
  },
  {
   "cell_type": "code",
   "execution_count": 2,
   "id": "03adaa08-0d11-4c0f-8b61-121f45724aa4",
   "metadata": {},
   "outputs": [],
   "source": [
    "List = [\"Murslin\"]"
   ]
  },
  {
   "cell_type": "code",
   "execution_count": 3,
   "id": "3f4df187-8738-4c9e-9b53-ab5c825c2b74",
   "metadata": {},
   "outputs": [],
   "source": [
    "Float = 10.30"
   ]
  },
  {
   "cell_type": "code",
   "execution_count": 4,
   "id": "4658add5-354a-47ba-8784-da51920910f1",
   "metadata": {},
   "outputs": [],
   "source": [
    "Tuple = (\"Murslin\")"
   ]
  },
  {
   "cell_type": "code",
   "execution_count": 5,
   "id": "32a5a9db-a3ec-4de4-af1f-190ba9773fa8",
   "metadata": {},
   "outputs": [],
   "source": [
    "string = \"Murslin\""
   ]
  },
  {
   "cell_type": "markdown",
   "id": "62f50908-f787-41f2-9097-dbd651508ec3",
   "metadata": {},
   "source": [
    "Q2. Given are some following variables containing data:"
   ]
  },
  {
   "cell_type": "code",
   "execution_count": 7,
   "id": "f9b2f11c-a75b-4da1-86d5-c601008a4498",
   "metadata": {},
   "outputs": [
    {
     "data": {
      "text/plain": [
       "str"
      ]
     },
     "execution_count": 7,
     "metadata": {},
     "output_type": "execute_result"
    }
   ],
   "source": [
    "var1 = \" \"\n",
    "type(var1)"
   ]
  },
  {
   "cell_type": "code",
   "execution_count": 8,
   "id": "d59b06e7-73cd-413b-bee3-2dc82e8df3af",
   "metadata": {},
   "outputs": [
    {
     "data": {
      "text/plain": [
       "str"
      ]
     },
     "execution_count": 8,
     "metadata": {},
     "output_type": "execute_result"
    }
   ],
   "source": [
    "var2 = \"[ DS , ML , Python]\"\n",
    "type(var2)"
   ]
  },
  {
   "cell_type": "code",
   "execution_count": 9,
   "id": "36959fec-add1-4ce6-be6a-20d067c731a1",
   "metadata": {},
   "outputs": [
    {
     "data": {
      "text/plain": [
       "list"
      ]
     },
     "execution_count": 9,
     "metadata": {},
     "output_type": "execute_result"
    }
   ],
   "source": [
    "var3 = [ \"DS\" , \"ML\" , \"Python\" ]\n",
    "type(var3)"
   ]
  },
  {
   "cell_type": "code",
   "execution_count": 10,
   "id": "dd3decac-3d2a-4a2f-8f34-9daeb25d77d8",
   "metadata": {},
   "outputs": [
    {
     "data": {
      "text/plain": [
       "float"
      ]
     },
     "execution_count": 10,
     "metadata": {},
     "output_type": "execute_result"
    }
   ],
   "source": [
    "var4 = 1.\n",
    "type(var4)"
   ]
  },
  {
   "cell_type": "markdown",
   "id": "72acf4d5-78ff-4a15-a5bc-2b46c094c27d",
   "metadata": {},
   "source": [
    "Q3. Explain the use of the following operators using an example:"
   ]
  },
  {
   "cell_type": "code",
   "execution_count": 12,
   "id": "1fe5f346-778e-443a-b4db-7cfd699a50a3",
   "metadata": {},
   "outputs": [
    {
     "data": {
      "text/plain": [
       "5.0"
      ]
     },
     "execution_count": 12,
     "metadata": {},
     "output_type": "execute_result"
    }
   ],
   "source": [
    "# - (/) is a division operator\n",
    "\n",
    "a = 10\n",
    "b = a/2\n",
    "b"
   ]
  },
  {
   "cell_type": "code",
   "execution_count": 13,
   "id": "3bbd2cdd-69f9-414c-93d7-ce1d6076e0fb",
   "metadata": {},
   "outputs": [
    {
     "data": {
      "text/plain": [
       "0"
      ]
     },
     "execution_count": 13,
     "metadata": {},
     "output_type": "execute_result"
    }
   ],
   "source": [
    "# - (%) is a modulus operator\n",
    "c = 10\n",
    "d = c%2\n",
    "d"
   ]
  },
  {
   "cell_type": "code",
   "execution_count": 14,
   "id": "ad9b8c85-733c-43c6-814e-f263a2260ea0",
   "metadata": {},
   "outputs": [
    {
     "data": {
      "text/plain": [
       "5"
      ]
     },
     "execution_count": 14,
     "metadata": {},
     "output_type": "execute_result"
    }
   ],
   "source": [
    "# - (//) is a floor operator\n",
    "e = 10\n",
    "f = e//2\n",
    "f"
   ]
  },
  {
   "cell_type": "code",
   "execution_count": 15,
   "id": "ed6d1800-37ac-43a6-9e74-e4c82c920fa4",
   "metadata": {},
   "outputs": [
    {
     "data": {
      "text/plain": [
       "100"
      ]
     },
     "execution_count": 15,
     "metadata": {},
     "output_type": "execute_result"
    }
   ],
   "source": [
    "# - (**) is a exponential operator\n",
    "g = 10\n",
    "h = 10**2\n",
    "h"
   ]
  },
  {
   "cell_type": "markdown",
   "id": "0987eb71-297d-4fa7-a468-1973b33c3498",
   "metadata": {},
   "source": [
    "Q4. Create a list of length 10 of your choice containing multiple types of data. Using for loop print the element and its data type."
   ]
  },
  {
   "cell_type": "code",
   "execution_count": 17,
   "id": "20d688a8-1427-46ed-97d3-baceb767c62f",
   "metadata": {},
   "outputs": [
    {
     "name": "stdout",
     "output_type": "stream",
     "text": [
      "1 Data Type is =  <class 'int'>\n",
      "2 Data Type is =  <class 'int'>\n",
      "3 Data Type is =  <class 'int'>\n",
      "4 Data Type is =  <class 'int'>\n",
      "5 Data Type is =  <class 'int'>\n",
      "4j Data Type is =  <class 'complex'>\n",
      "MURSLIN Data Type is =  <class 'str'>\n",
      "12.2 Data Type is =  <class 'float'>\n",
      "True Data Type is =  <class 'bool'>\n",
      "False Data Type is =  <class 'bool'>\n"
     ]
    }
   ],
   "source": [
    "Data_Lists = [1,2,3,4,5, 4j ,\"MURSLIN\" , 12.2 , True , False]\n",
    "\n",
    "for i in Data_Lists :\n",
    "    print(i ,\"Data Type is = \", type(i))"
   ]
  },
  {
   "cell_type": "markdown",
   "id": "21e39d15-bf3b-48ef-9522-a502fd16eca2",
   "metadata": {},
   "source": [
    "Q5. Using a while loop, verify if the number A is purely divisible by number B and if so then how many times it can be divisible."
   ]
  },
  {
   "cell_type": "code",
   "execution_count": 20,
   "id": "22a4d5da-4480-49f4-99ba-7d7898ff3945",
   "metadata": {},
   "outputs": [
    {
     "name": "stdin",
     "output_type": "stream",
     "text": [
      "Enter number A:  10\n",
      "Enter number B:  2\n"
     ]
    },
    {
     "name": "stdout",
     "output_type": "stream",
     "text": [
      "5.0 is divisible by 2 and can be divided 1 times.\n"
     ]
    }
   ],
   "source": [
    "A = int(input(\"Enter number A: \"))\n",
    "B = int(input(\"Enter number B: \"))\n",
    "\n",
    "count = 0\n",
    "\n",
    "while A % B == 0:\n",
    "    A = A / B\n",
    "    count += 1\n",
    "\n",
    "if count > 0:\n",
    "    print(f\"{A} is divisible by {B} and can be divided {count} times.\")\n",
    "else:\n",
    "    print(f\"{A} is not divisible by {B}.\")\n",
    "    "
   ]
  },
  {
   "cell_type": "markdown",
   "id": "3e728e55-95d1-4635-bd3c-3597eba8c676",
   "metadata": {},
   "source": [
    "Q6. Create a list containing 25 int type data. Using for loop and if-else condition print if the element is divisible by 3 or not."
   ]
  },
  {
   "cell_type": "code",
   "execution_count": 22,
   "id": "a8600abf-6fcf-4b64-a234-f5ff7f56dd52",
   "metadata": {},
   "outputs": [
    {
     "name": "stdout",
     "output_type": "stream",
     "text": [
      "i is not divisible by 3\n",
      "i is not divisible by 3\n",
      "i is divisible by 3\n",
      "i is not divisible by 3\n",
      "i is not divisible by 3\n",
      "i is divisible by 3\n",
      "i is not divisible by 3\n",
      "i is not divisible by 3\n",
      "i is divisible by 3\n",
      "i is not divisible by 3\n",
      "i is not divisible by 3\n",
      "i is divisible by 3\n",
      "i is not divisible by 3\n",
      "i is not divisible by 3\n",
      "i is divisible by 3\n",
      "i is not divisible by 3\n",
      "i is not divisible by 3\n",
      "i is divisible by 3\n",
      "i is not divisible by 3\n",
      "i is not divisible by 3\n",
      "i is divisible by 3\n",
      "i is not divisible by 3\n",
      "i is not divisible by 3\n",
      "i is divisible by 3\n",
      "i is not divisible by 3\n"
     ]
    }
   ],
   "source": [
    "Number_list = [1,2,3,4,5,6,7,8,9,10,11,12,13,14,15,16,17,18,19,20,21,22,23,24,25]\n",
    "for i in Number_list :\n",
    "    if i % 3 == 0:\n",
    "        print(\"i is divisible by 3\")\n",
    "    else :\n",
    "        print(\"i is not divisible by 3\")\n"
   ]
  },
  {
   "cell_type": "markdown",
   "id": "2ac8c904-bd51-4f33-a5a9-ced7735bf19a",
   "metadata": {},
   "source": [
    "Q7. What do you understand about mutable and immutable data types? Give examples for both showing this property."
   ]
  },
  {
   "cell_type": "code",
   "execution_count": 24,
   "id": "550acce2-2510-4afd-8192-a3f0e1adf9e5",
   "metadata": {},
   "outputs": [
    {
     "data": {
      "text/plain": [
       "[1, 'sahil', 3, 4]"
      ]
     },
     "execution_count": 24,
     "metadata": {},
     "output_type": "execute_result"
    }
   ],
   "source": [
    "#Mutable - in this we can remove and replace the data with the existing data.\n",
    "\n",
    "Lists = [1,2,3,4]\n",
    "\n",
    "Lists[1] = \"sahil\"\n",
    "\n",
    "Lists"
   ]
  },
  {
   "cell_type": "code",
   "execution_count": 25,
   "id": "87e4d23f-7f97-496b-8142-1da9756b576c",
   "metadata": {},
   "outputs": [
    {
     "ename": "TypeError",
     "evalue": "'str' object does not support item assignment",
     "output_type": "error",
     "traceback": [
      "\u001b[0;31m---------------------------------------------------------------------------\u001b[0m",
      "\u001b[0;31mTypeError\u001b[0m                                 Traceback (most recent call last)",
      "Cell \u001b[0;32mIn[25], line 5\u001b[0m\n\u001b[1;32m      1\u001b[0m \u001b[38;5;66;03m#Immutable = in this data type we can not change the existing data with the new data \u001b[39;00m\n\u001b[1;32m      3\u001b[0m Sahil \u001b[38;5;241m=\u001b[39m \u001b[38;5;124m\"\u001b[39m\u001b[38;5;124mI love games\u001b[39m\u001b[38;5;124m\"\u001b[39m\n\u001b[0;32m----> 5\u001b[0m \u001b[43mSahil\u001b[49m\u001b[43m[\u001b[49m\u001b[38;5;241;43m1\u001b[39;49m\u001b[43m]\u001b[49m \u001b[38;5;241m=\u001b[39m \u001b[38;5;124m\"\u001b[39m\u001b[38;5;124mhate\u001b[39m\u001b[38;5;124m\"\u001b[39m\n\u001b[1;32m      7\u001b[0m Sahil\n",
      "\u001b[0;31mTypeError\u001b[0m: 'str' object does not support item assignment"
     ]
    }
   ],
   "source": [
    "#Immutable = in this data type we can not change the existing data with the new data \n",
    "\n",
    "Sahil = \"I love games\"\n",
    "\n",
    "Sahil[1] = \"hate\"\n",
    "\n",
    "Sahil"
   ]
  },
  {
   "cell_type": "code",
   "execution_count": 1,
   "id": "ec66aabb-f0fc-440c-8bc6-5a70428909b6",
   "metadata": {},
   "outputs": [
    {
     "name": "stdout",
     "output_type": "stream",
     "text": [
      "3 5\n"
     ]
    }
   ],
   "source": [
    "x = 5\n",
    "\n",
    "y = 3\n",
    "\n",
    "x = y\n",
    "\n",
    "y = x + 2\n",
    "\n",
    "print(x, y)"
   ]
  },
  {
   "cell_type": "code",
   "execution_count": 2,
   "id": "f1c9dc6d-dc27-4e4f-b087-0c207048adf4",
   "metadata": {},
   "outputs": [
    {
     "name": "stdout",
     "output_type": "stream",
     "text": [
      "2 0\n"
     ]
    }
   ],
   "source": [
    "a = 10\n",
    "\n",
    "b = 5\n",
    "\n",
    "c = a // b\n",
    "\n",
    "d = a % b\n",
    "\n",
    "print(c, d)"
   ]
  },
  {
   "cell_type": "code",
   "execution_count": 3,
   "id": "dc984bbf-e08e-478c-b33b-6a2f0115cc01",
   "metadata": {},
   "outputs": [
    {
     "name": "stdout",
     "output_type": "stream",
     "text": [
      "y is greater\n"
     ]
    }
   ],
   "source": [
    "x = 5\n",
    "\n",
    "y = 10\n",
    "\n",
    "if x > y:\n",
    "\n",
    "    print(\"x is greater\")\n",
    "\n",
    "else:\n",
    "\n",
    "    print(\"y is greater\")"
   ]
  },
  {
   "cell_type": "code",
   "execution_count": 4,
   "id": "de9cc44f-731f-401f-8e1c-66bea2141318",
   "metadata": {},
   "outputs": [
    {
     "name": "stdout",
     "output_type": "stream",
     "text": [
      "0\n",
      "1\n",
      "2\n",
      "3\n",
      "4\n"
     ]
    }
   ],
   "source": [
    "count = 0\n",
    "\n",
    "while count < 5:\n",
    "\n",
    "    print(count)\n",
    "\n",
    "    count += 1"
   ]
  },
  {
   "cell_type": "code",
   "execution_count": 5,
   "id": "5a385ed9-c291-4b10-81e3-24f382ffbaa2",
   "metadata": {},
   "outputs": [
    {
     "name": "stdout",
     "output_type": "stream",
     "text": [
      "[1, 2, 3, 4]\n"
     ]
    }
   ],
   "source": [
    "my_list = [1, 2, 3]\n",
    "\n",
    "new_list = my_list\n",
    "\n",
    "new_list.append(4)\n",
    "\n",
    "print(my_list)"
   ]
  },
  {
   "cell_type": "code",
   "execution_count": null,
   "id": "a851a021-6d7d-4afd-b8f6-4926e127f061",
   "metadata": {},
   "outputs": [],
   "source": []
  }
 ],
 "metadata": {
  "kernelspec": {
   "display_name": "Python 3 (ipykernel)",
   "language": "python",
   "name": "python3"
  },
  "language_info": {
   "codemirror_mode": {
    "name": "ipython",
    "version": 3
   },
   "file_extension": ".py",
   "mimetype": "text/x-python",
   "name": "python",
   "nbconvert_exporter": "python",
   "pygments_lexer": "ipython3",
   "version": "3.10.8"
  }
 },
 "nbformat": 4,
 "nbformat_minor": 5
}
