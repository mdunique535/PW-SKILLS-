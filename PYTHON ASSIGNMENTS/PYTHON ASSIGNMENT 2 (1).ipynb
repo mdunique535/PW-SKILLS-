{
 "cells": [
  {
   "cell_type": "markdown",
   "id": "38a46f8a-692a-4d7a-ab44-72cf1f66b8aa",
   "metadata": {},
   "source": [
    "Q1. Create a python program to sort the given list of tuples based on integer value using a\n",
    "lambda function.\n",
    "[('Sachin Tendulkar', 34357), ('Ricky Ponting', 27483), ('Jack Kallis', 25534), ('Virat Kohli', 24936)]"
   ]
  },
  {
   "cell_type": "code",
   "execution_count": 3,
   "id": "2bdb7a69-9d6b-493d-89cd-c1fd7fcd1277",
   "metadata": {},
   "outputs": [
    {
     "name": "stdout",
     "output_type": "stream",
     "text": [
      "('Virat Kohli', 24936)\n",
      "('Jack Kallis', 25534)\n",
      "('Ricky Ponting', 27483)\n",
      "('Sachin Tendulkar', 34357)\n"
     ]
    }
   ],
   "source": [
    "name_list = [('Sachin Tendulkar', 34357), ('Ricky Ponting', 27483), ('Jack Kallis', 25534), ('Virat Kohli', 24936)]\n",
    "\n",
    "sorted_data = sorted(name_list, key=lambda x: x[1])\n",
    "\n",
    "for item in sorted_data:\n",
    "    print(item)            "
   ]
  },
  {
   "cell_type": "markdown",
   "id": "56bea8f9-3618-4404-be1e-f4e0d6a06bdc",
   "metadata": {},
   "source": [
    "Q2. Write a Python Program to find the squares of all the numbers in the given list of integers using\n",
    "lambda and map functions.\n",
    "\n",
    "[1, 2, 3, 4, 5, 6, 7, 8, 9, 10]"
   ]
  },
  {
   "cell_type": "code",
   "execution_count": 22,
   "id": "6cd80dd1-1149-4492-a4c8-aa3608bb5309",
   "metadata": {},
   "outputs": [
    {
     "name": "stdout",
     "output_type": "stream",
     "text": [
      "[1, 4, 9, 16, 25, 36, 49, 64, 81, 100]\n"
     ]
    }
   ],
   "source": [
    "l = [1, 2, 3, 4, 5, 6, 7, 8, 9, 10]\n",
    "\n",
    "sqr = list(map(lambda x : x**2 , l))\n",
    "\n",
    "print(sqr)"
   ]
  },
  {
   "cell_type": "markdown",
   "id": "c4474c87-1360-482e-8558-94f8f403fddf",
   "metadata": {},
   "source": [
    "Q3. Write a python program to convert the given list of integers into a tuple of strings. Use map and\n",
    "lambda functions\n",
    "\n",
    "Given String: [1, 2, 3, 4, 5, 6, 7, 8, 9, 10]\n",
    "\n",
    "Expected output: ('1', '2', '3', '4', '5', '6', '7', '8', '9', '10')"
   ]
  },
  {
   "cell_type": "code",
   "execution_count": 27,
   "id": "c8218a11-5893-4077-b3cb-087e0f087417",
   "metadata": {},
   "outputs": [
    {
     "name": "stdout",
     "output_type": "stream",
     "text": [
      "('1', '2', '3', '4', '5', '6', '7', '8', '9', '10')\n"
     ]
    }
   ],
   "source": [
    "l1 = [1, 2, 3, 4, 5, 6, 7, 8, 9, 10]\n",
    "\n",
    "tuple_list = tuple(map(lambda x : str(x) , l1))\n",
    "\n",
    "print(tuple_list)"
   ]
  },
  {
   "cell_type": "markdown",
   "id": "84090da4-ac2c-473b-85fa-965d55875c64",
   "metadata": {},
   "source": [
    "Q4. Write a python program using reduce function to compute the product of a list containing numbers\n",
    "from 1 to 25."
   ]
  },
  {
   "cell_type": "code",
   "execution_count": 37,
   "id": "7c860ee5-2bbe-460f-8f76-8457ed01a124",
   "metadata": {},
   "outputs": [
    {
     "name": "stdout",
     "output_type": "stream",
     "text": [
      "Product:  15511210043330985984000000\n"
     ]
    }
   ],
   "source": [
    "from functools import reduce\n",
    "\n",
    "list1 = list(range(1,26))\n",
    "\n",
    "Product = reduce(lambda x ,y : x*y , list1)\n",
    "\n",
    "print(\"Product: \", Product)\n",
    "    "
   ]
  },
  {
   "cell_type": "markdown",
   "id": "a5018e67-f833-43bb-9e04-850abc1d0dab",
   "metadata": {},
   "source": [
    "Q5. Write a python program to filter the numbers in a given list that are divisible by 2 and 3 using the\n",
    "filter function.\n",
    "\n",
    "[2, 3, 6, 9, 27, 60, 90, 120, 55, 46]"
   ]
  },
  {
   "cell_type": "code",
   "execution_count": 42,
   "id": "de00c3af-bfd6-40d7-b205-9c03695aeb0e",
   "metadata": {},
   "outputs": [
    {
     "name": "stdout",
     "output_type": "stream",
     "text": [
      "Filter List: [6, 60, 90, 120]\n"
     ]
    }
   ],
   "source": [
    "list2 = [2, 3, 6, 9, 27, 60, 90, 120, 55, 46]\n",
    "\n",
    "Num_list = list(filter(lambda x : x % 2 == 0 and x % 3 == 0 , list2))\n",
    "\n",
    "print(\"Filter List:\" , Num_list)"
   ]
  },
  {
   "cell_type": "markdown",
   "id": "1487aada-6145-4e13-a06d-9150702ecf30",
   "metadata": {},
   "source": [
    "Q6. Write a python program to find palindromes in the given list of strings using lambda and filter\n",
    "function.\n",
    "\n",
    "['python', 'php', 'aba', 'radar', 'level']"
   ]
  },
  {
   "cell_type": "code",
   "execution_count": 63,
   "id": "dd07a4a7-d8a3-4e27-b2c6-7abd34275514",
   "metadata": {},
   "outputs": [
    {
     "name": "stdout",
     "output_type": "stream",
     "text": [
      "Palindromes are:  ['php', 'aba', 'radar', 'level']\n"
     ]
    }
   ],
   "source": [
    "list2 = ['python', 'php', 'aba', 'radar', 'level']\n",
    "\n",
    "palindrome = list(filter(lambda x : x[0:] == x[::-1] , list2))\n",
    "\n",
    "print(\"Palindromes are: \" , palindrome)"
   ]
  },
  {
   "cell_type": "code",
   "execution_count": 7,
   "id": "7ffd55d2-3326-4c9e-85da-852be42b0861",
   "metadata": {},
   "outputs": [
    {
     "name": "stdout",
     "output_type": "stream",
     "text": [
      "[1, 2, 3, 4]\n"
     ]
    }
   ],
   "source": [
    "n = list(range(1,5))\n",
    "print(n)"
   ]
  },
  {
   "cell_type": "code",
   "execution_count": 8,
   "id": "00654db2-6f7d-49bf-a7ff-b7d63cde90e5",
   "metadata": {},
   "outputs": [
    {
     "ename": "TypeError",
     "evalue": "'int' object is not subscriptable",
     "output_type": "error",
     "traceback": [
      "\u001b[0;31m---------------------------------------------------------------------------\u001b[0m",
      "\u001b[0;31mTypeError\u001b[0m                                 Traceback (most recent call last)",
      "Cell \u001b[0;32mIn[8], line 3\u001b[0m\n\u001b[1;32m      1\u001b[0m x \u001b[38;5;241m=\u001b[39m \u001b[38;5;241m1134\u001b[39m\n\u001b[0;32m----> 3\u001b[0m y\u001b[38;5;241m=\u001b[39m\u001b[43mx\u001b[49m\u001b[43m[\u001b[49m\u001b[43m:\u001b[49m\u001b[43m:\u001b[49m\u001b[38;5;241;43m-\u001b[39;49m\u001b[38;5;241;43m1\u001b[39;49m\u001b[43m]\u001b[49m\n\u001b[1;32m      4\u001b[0m \u001b[38;5;28mprint\u001b[39m(y)\n",
      "\u001b[0;31mTypeError\u001b[0m: 'int' object is not subscriptable"
     ]
    }
   ],
   "source": [
    "x = 1134\n",
    "\n",
    "y=x[::-1]\n",
    "print(y)"
   ]
  },
  {
   "cell_type": "code",
   "execution_count": null,
   "id": "56fe992a-45f3-4c32-9df0-fb06f3ce3e6e",
   "metadata": {},
   "outputs": [],
   "source": []
  }
 ],
 "metadata": {
  "kernelspec": {
   "display_name": "Python 3 (ipykernel)",
   "language": "python",
   "name": "python3"
  },
  "language_info": {
   "codemirror_mode": {
    "name": "ipython",
    "version": 3
   },
   "file_extension": ".py",
   "mimetype": "text/x-python",
   "name": "python",
   "nbconvert_exporter": "python",
   "pygments_lexer": "ipython3",
   "version": "3.10.8"
  }
 },
 "nbformat": 4,
 "nbformat_minor": 5
}
