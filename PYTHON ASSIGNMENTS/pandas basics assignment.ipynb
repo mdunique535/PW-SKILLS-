{
 "cells": [
  {
   "cell_type": "markdown",
   "id": "31e97ba3-7a47-491d-acc1-d0ec1c4a3f04",
   "metadata": {},
   "source": [
    "## Q1. Create a Pandas Series that contains the following data: 4, 8, 15, 16, 23, and 42. Then, print the series."
   ]
  },
  {
   "cell_type": "code",
   "execution_count": 1,
   "id": "11d6f1ac-4e95-435d-8769-f2e53a7c2bcf",
   "metadata": {},
   "outputs": [],
   "source": [
    "import pandas as pd"
   ]
  },
  {
   "cell_type": "code",
   "execution_count": 2,
   "id": "00ba8447-3e04-45be-811e-c2f98db98783",
   "metadata": {},
   "outputs": [
    {
     "name": "stdout",
     "output_type": "stream",
     "text": [
      "0     4\n",
      "1     8\n",
      "2    15\n",
      "3    16\n",
      "4    23\n",
      "5    42\n",
      "dtype: int64\n"
     ]
    }
   ],
   "source": [
    "data = [4, 8, 15, 16, 23, 42]\n",
    "\n",
    "series = pd.Series(data)\n",
    "\n",
    "print(series)"
   ]
  },
  {
   "cell_type": "markdown",
   "id": "46f6a58a-f200-482e-8da1-316ba453fc4a",
   "metadata": {},
   "source": [
    "## Q2. Create a variable of list type containing 10 elements in it, and apply pandas.Series function on the variable print it."
   ]
  },
  {
   "cell_type": "code",
   "execution_count": 3,
   "id": "721d490d-44ad-4ed2-b03f-8cba2b3c0279",
   "metadata": {},
   "outputs": [
    {
     "name": "stdout",
     "output_type": "stream",
     "text": [
      "0     1\n",
      "1     2\n",
      "2     3\n",
      "3     4\n",
      "4     5\n",
      "5     6\n",
      "6     7\n",
      "7     8\n",
      "8     9\n",
      "9    10\n",
      "dtype: int64\n"
     ]
    }
   ],
   "source": [
    "data1 = [1,2,3,4,5,6,7,8,9,10]\n",
    "\n",
    "series1 = pd.Series(data1)\n",
    "\n",
    "print(series1)"
   ]
  },
  {
   "cell_type": "markdown",
   "id": "934a1726-346b-4c86-88d9-08cd657cb304",
   "metadata": {},
   "source": [
    "## Q3. Create a Pandas DataFrame that contains the following data:\n",
    "\n",
    "\n",
    "Name      Age      Gender\n",
    "Alice     25       Female\n",
    "Bob       30       male\n",
    "Claire    27       Female \n",
    "\n",
    "Then, print the DataFrame."
   ]
  },
  {
   "cell_type": "code",
   "execution_count": 4,
   "id": "d0fee318-fd80-4f1b-adfd-d43b3a3aa02f",
   "metadata": {},
   "outputs": [
    {
     "name": "stdout",
     "output_type": "stream",
     "text": [
      "     Name  Age  Gender\n",
      "0   Alice   25  Female\n",
      "1     Bob   30    Male\n",
      "2  Claire   27  Female\n"
     ]
    }
   ],
   "source": [
    "data = {\n",
    "    \n",
    "    \"Name\" : [\"Alice\", \"Bob\", \"Claire\"],\n",
    "    \"Age\" : [25,30,27],\n",
    "    \"Gender\" : [\"Female\" , \"Male\" , \"Female\"]\n",
    "\n",
    "}\n",
    "\n",
    "df = pd.DataFrame(data)\n",
    "\n",
    "print(df)"
   ]
  },
  {
   "cell_type": "markdown",
   "id": "95858535-b732-4a09-8fdf-c71f451c990a",
   "metadata": {},
   "source": [
    "## Q4. What is ‘DataFrame’ in pandas and how is it different from pandas.series? Explain with an example."
   ]
  },
  {
   "cell_type": "code",
   "execution_count": 9,
   "id": "4d6fd052-4d73-45e2-9733-d6c4d96e5f1e",
   "metadata": {},
   "outputs": [
    {
     "name": "stdout",
     "output_type": "stream",
     "text": [
      "0     4\n",
      "1     8\n",
      "2    15\n",
      "3    16\n",
      "4    23\n",
      "5    42\n",
      "Name: Numbers, dtype: int64\n",
      "---------------------------------------------\n",
      "   Numbers\n",
      "0        4\n",
      "1        8\n",
      "2       15\n",
      "3       16\n",
      "4       23\n",
      "5       42\n"
     ]
    }
   ],
   "source": [
    "\"\"\"\n",
    "a DataFrame is a tabular data structure with rows and columns, while a Series is a one-dimensional array \n",
    "representing a single column of data within a DataFrame.\n",
    "\"\"\"\n",
    "\n",
    "# Creating a Pandas Series\n",
    "series = pd.Series([4, 8, 15, 16, 23, 42], name='Numbers')\n",
    "print(series)\n",
    "\n",
    "print(\"-\"*45)\n",
    "\n",
    "# Creating a DataFrame\n",
    "data = {\n",
    "    'Numbers': [4, 8, 15, 16, 23, 42]\n",
    "}\n",
    "\n",
    "df = pd.DataFrame(data)\n",
    "print(df)"
   ]
  },
  {
   "cell_type": "markdown",
   "id": "44c26965-58d5-45e6-9485-4c2038773310",
   "metadata": {},
   "source": [
    "## Q5. What are some common functions you can use to manipulate data in a Pandas DataFrame? Can you give an example of when you might use one of these functions?"
   ]
  },
  {
   "cell_type": "code",
   "execution_count": null,
   "id": "a8b0c934-6189-425a-8c5a-d707a51fda49",
   "metadata": {},
   "outputs": [],
   "source": [
    "# Load the sales data into a DataFrame\n",
    "sales_data = pd.read_csv('sales.csv')\n",
    "\n",
    "# View the first few rows of the DataFrame\n",
    "sales_data.head()\n",
    "\n",
    "# View the last few rows of the DataFrame\n",
    "sales_data.tail()\n",
    "\n",
    "# Get a summary of the DataFrame\n",
    "sales_data.info()\n",
    "\n",
    "# Calculate descriptive statistics of numerical columns\n",
    "sales_data.describe()\n",
    "\n",
    "# Count the frequency of unique values in a column\n",
    "sales_data['Product'].value_counts()\n",
    "\n",
    "# Sort the DataFrame by the 'Date' column in ascending order\n",
    "sales_data.sort_values('Date', ascending=True)\n"
   ]
  },
  {
   "cell_type": "markdown",
   "id": "1bdc41c2-0b19-41af-b247-c772ada7953e",
   "metadata": {},
   "source": [
    "## Q6. Which of the following is mutable in nature Series, DataFrame, Panel?"
   ]
  },
  {
   "cell_type": "code",
   "execution_count": 10,
   "id": "cd9a15c3-341e-415e-bc00-39c8fef0889a",
   "metadata": {},
   "outputs": [
    {
     "data": {
      "text/plain": [
       "'\\nIn Pandas, a DataFrame is mutable, which means you can modify its content after creation. \\nYou can add, remove, or update rows and columns within a DataFrame. For example, you can \\nchange the values in a specific cell, add a new column, or delete a row. The mutability \\nof DataFrames makes them suitable for data manipulation and analysis tasks.\\n'"
      ]
     },
     "execution_count": 10,
     "metadata": {},
     "output_type": "execute_result"
    }
   ],
   "source": [
    "\"\"\"\n",
    "In Pandas, a DataFrame is mutable, which means you can modify its content after creation. \n",
    "You can add, remove, or update rows and columns within a DataFrame. For example, you can \n",
    "change the values in a specific cell, add a new column, or delete a row. The mutability \n",
    "of DataFrames makes them suitable for data manipulation and analysis tasks.\n",
    "\"\"\""
   ]
  },
  {
   "cell_type": "markdown",
   "id": "a61afeeb-4441-4d29-b55b-eb605d9eae27",
   "metadata": {},
   "source": [
    "## Q7. Create a DataFrame using multiple Series. Explain with an example."
   ]
  },
  {
   "cell_type": "code",
   "execution_count": 11,
   "id": "a886234f-6ad3-4b40-beaf-9797f765db0e",
   "metadata": {},
   "outputs": [
    {
     "name": "stdout",
     "output_type": "stream",
     "text": [
      "     Name  Age  Gender\n",
      "0   Alice   25  Female\n",
      "1     Bob   30    Male\n",
      "2  Claire   27  Female\n"
     ]
    }
   ],
   "source": [
    "# Creating Series\n",
    "name_series = pd.Series(['Alice', 'Bob', 'Claire'])\n",
    "age_series = pd.Series([25, 30, 27])\n",
    "gender_series = pd.Series(['Female', 'Male', 'Female'])\n",
    "\n",
    "# Creating DataFrame using multiple Series\n",
    "data = {\n",
    "    'Name': name_series,\n",
    "    'Age': age_series,\n",
    "    'Gender': gender_series\n",
    "}\n",
    "\n",
    "df = pd.DataFrame(data)\n",
    "print(df)"
   ]
  },
  {
   "cell_type": "code",
   "execution_count": null,
   "id": "6d374c7a-412a-4d4a-adb6-79b93522a930",
   "metadata": {},
   "outputs": [],
   "source": []
  }
 ],
 "metadata": {
  "kernelspec": {
   "display_name": "Python 3 (ipykernel)",
   "language": "python",
   "name": "python3"
  },
  "language_info": {
   "codemirror_mode": {
    "name": "ipython",
    "version": 3
   },
   "file_extension": ".py",
   "mimetype": "text/x-python",
   "name": "python",
   "nbconvert_exporter": "python",
   "pygments_lexer": "ipython3",
   "version": "3.10.8"
  }
 },
 "nbformat": 4,
 "nbformat_minor": 5
}
