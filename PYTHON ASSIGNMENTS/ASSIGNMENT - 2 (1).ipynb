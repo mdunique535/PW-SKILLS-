{
 "cells": [
  {
   "cell_type": "code",
   "execution_count": 1,
   "id": "1a37323c-f30f-4215-9a46-ae2f50672369",
   "metadata": {},
   "outputs": [],
   "source": [
    "# Q1. How do you comment code in Python? What are the different types of comments?"
   ]
  },
  {
   "cell_type": "code",
   "execution_count": 2,
   "id": "3bab6693-2ffc-46b0-87d3-3b9b7dca9bcd",
   "metadata": {},
   "outputs": [
    {
     "data": {
      "text/plain": [
       "'\\nthis is multiline comment\\nin this we used quotes for written the multiline comment\\n'"
      ]
     },
     "execution_count": 2,
     "metadata": {},
     "output_type": "execute_result"
    }
   ],
   "source": [
    "# we used hashtag symbol for making comments in python .in python code or anything written inside # is not executable.for example and there are two types of comments in python:-\n",
    "\n",
    "#this is single line comment\n",
    "\n",
    "'''\n",
    "this is multiline comment\n",
    "in this we used quotes for written the multiline comment\n",
    "'''\n"
   ]
  },
  {
   "cell_type": "code",
   "execution_count": 3,
   "id": "e921ecc6-3a39-4caf-afbc-010920621d58",
   "metadata": {},
   "outputs": [],
   "source": [
    "# Q2. What are variables in Python? How do you declare and assign values to variables?"
   ]
  },
  {
   "cell_type": "code",
   "execution_count": 4,
   "id": "c1cc5b2f-0cd1-438b-a11a-06b6e5ffaf7a",
   "metadata": {},
   "outputs": [],
   "source": [
    "# in python variables act as a containers which contains various types of data type and variables are assign with = operator\n",
    "\n",
    "# this is variable in python\n",
    "\n",
    "a = [1,2,3,4,5]\n",
    "\n",
    "# a is variable in python which stores the list"
   ]
  },
  {
   "cell_type": "code",
   "execution_count": 5,
   "id": "a2731db4-4252-4e6f-92dd-51c86bce310a",
   "metadata": {},
   "outputs": [],
   "source": [
    "# Q3. How do you convert one data type to another in Python?\n",
    "\n",
    "#we can convert data type of any data by type casting. for example :-\n",
    "\n",
    "a = 4 #int type data\n",
    "a = str(a) #string type data\n",
    "\n",
    "b = 5.50  #float type data\n",
    "b = int(b) #int type data"
   ]
  },
  {
   "cell_type": "code",
   "execution_count": 6,
   "id": "0e93b487-c0be-4f67-b85e-e3822574fb50",
   "metadata": {},
   "outputs": [],
   "source": [
    "# Q4. How do you write and execute a Python script from the command line?\n",
    "\n",
    "\n",
    "\n"
   ]
  },
  {
   "cell_type": "code",
   "execution_count": 7,
   "id": "9f345e7d-3a7d-4597-b6df-0cf84b557894",
   "metadata": {},
   "outputs": [],
   "source": [
    "# Q5. Given a list my_list = [1, 2, 3, 4, 5], write the code to slice the list and obtain the sub-list [2, 3]."
   ]
  },
  {
   "cell_type": "code",
   "execution_count": 11,
   "id": "9b9aac49-566c-4967-ac40-4164cbbf737f",
   "metadata": {},
   "outputs": [
    {
     "name": "stdout",
     "output_type": "stream",
     "text": [
      "[2, 3]\n"
     ]
    }
   ],
   "source": [
    "my_list = [1, 2, 3, 4, 5]\n",
    "\n",
    "sub_list = my_list[1:3]\n",
    "\n",
    "print(sub_list)"
   ]
  },
  {
   "cell_type": "code",
   "execution_count": 13,
   "id": "5660150f-f51f-4973-83a1-e920f5442490",
   "metadata": {},
   "outputs": [],
   "source": [
    "# Q6. What is a complex number in mathematics, and how is it represented in Python?\n",
    "'''\n",
    " a complex number is a number of the form a + bi, where a and b are real numbers, \n",
    " and i is the imaginary unit, defined as the square root of -1. \n",
    " The real part a represents the real value of the complex number, \n",
    " while the imaginary part b represents the imaginary value.\n",
    "'''\n",
    "\n",
    "#complex numbers are represented using the complex data type. The imaginary part is denoted by the letter j instead of i.\n",
    "\n",
    "A = 3+4j # in this 3 is real part and 4 is imaginary part\n"
   ]
  },
  {
   "cell_type": "code",
   "execution_count": 14,
   "id": "7da3345d-412e-474b-96ca-3b46940410a2",
   "metadata": {},
   "outputs": [],
   "source": [
    "# Q7. What is the correct way to declare a variable named age and assign the value 25 to it?\n",
    "\n",
    "a = 25"
   ]
  },
  {
   "cell_type": "code",
   "execution_count": 15,
   "id": "d6bd9598-1a34-4c58-8ef3-785a8e94384f",
   "metadata": {},
   "outputs": [
    {
     "data": {
      "text/plain": [
       "float"
      ]
     },
     "execution_count": 15,
     "metadata": {},
     "output_type": "execute_result"
    }
   ],
   "source": [
    "# Q8. Declare a variable named price and assign the value 9.99 to it. What data type does this variable belong to?\n",
    "\n",
    "price = 9.99\n",
    "\n",
    "type(price)"
   ]
  },
  {
   "cell_type": "code",
   "execution_count": 16,
   "id": "9f34b280-04d6-4e10-917e-e41f3c6230af",
   "metadata": {},
   "outputs": [
    {
     "name": "stdout",
     "output_type": "stream",
     "text": [
      "Murslin\n"
     ]
    }
   ],
   "source": [
    "# Q9. Create a variable named name and assign your full name to it as a string. How would you print the value of this variable?\n",
    "\n",
    "name = \"Murslin\"\n",
    "\n",
    "print(name)"
   ]
  },
  {
   "cell_type": "code",
   "execution_count": 18,
   "id": "5c232943-3fd1-43ad-9a3d-01e5e3087708",
   "metadata": {},
   "outputs": [
    {
     "name": "stdout",
     "output_type": "stream",
     "text": [
      "World\n"
     ]
    }
   ],
   "source": [
    "# Q10. Given the string \"Hello, World!\", extract the substring \"World\".\n",
    "\n",
    "s = \"Hello World\"\n",
    "\n",
    "extract_world = s[6:11]\n",
    "\n",
    "print(extract_world)"
   ]
  },
  {
   "cell_type": "code",
   "execution_count": 19,
   "id": "cc0437c8-08dd-4bb7-81cb-76a124ac1e5e",
   "metadata": {},
   "outputs": [],
   "source": [
    "# Q11. Create a variable named \"is_student\" and assign it a boolean value indicating whether you are currently a student or not.\n",
    "\n",
    "is_student = True\n",
    "\n",
    "is_student = False"
   ]
  },
  {
   "cell_type": "code",
   "execution_count": 24,
   "id": "3ad45aa4-28de-48b3-983c-978fc77793ad",
   "metadata": {},
   "outputs": [
    {
     "name": "stdout",
     "output_type": "stream",
     "text": [
      "4\n"
     ]
    }
   ],
   "source": [
    "for i in range(5):\n",
    "    if i == 2:\n",
    "        continue\n",
    "print(i)"
   ]
  },
  {
   "cell_type": "code",
   "execution_count": null,
   "id": "aef12487-7a44-48d8-af0a-f82abf103451",
   "metadata": {},
   "outputs": [],
   "source": []
  }
 ],
 "metadata": {
  "kernelspec": {
   "display_name": "Python 3 (ipykernel)",
   "language": "python",
   "name": "python3"
  },
  "language_info": {
   "codemirror_mode": {
    "name": "ipython",
    "version": 3
   },
   "file_extension": ".py",
   "mimetype": "text/x-python",
   "name": "python",
   "nbconvert_exporter": "python",
   "pygments_lexer": "ipython3",
   "version": "3.10.8"
  }
 },
 "nbformat": 4,
 "nbformat_minor": 5
}
