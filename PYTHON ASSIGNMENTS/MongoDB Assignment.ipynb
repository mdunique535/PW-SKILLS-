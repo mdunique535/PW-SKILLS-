{
 "cells": [
  {
   "cell_type": "markdown",
   "id": "5d646dd9-fcae-4b9f-89d8-3eee02b91734",
   "metadata": {},
   "source": [
    "## Q1. What is MongoDB? Explain non-relational databases in short. In which scenarios it is preferred to use MongoDB over SQL databases?"
   ]
  },
  {
   "cell_type": "code",
   "execution_count": null,
   "id": "141770b1-4bbc-4059-a3c9-1cde2ba10fcf",
   "metadata": {},
   "outputs": [],
   "source": [
    "\"\"\"\n",
    "MongoDB :- MongoDB is a popular NoSQL (non-relational) database that provides a flexible and scalable way to store and \n",
    "           manage data.It is designed to handle large amounts of unstructured or semi-structured data, making it \n",
    "           well-suited for modern application development.\n",
    "\n",
    "Non-relational databases :-  Also known as NoSQL databases, are data storage systems that depart from the traditional\n",
    "                             relational database model. Unlike SQL databases, which use structured tables with fixed \n",
    "                             schemas, non-relational databases use various data models like key-value pairs, documents, \n",
    "                             graphs, or columnar data. They are typically more flexible, scalable, and better suited \n",
    "                             for handling unstructured or rapidly changing data.\n",
    "\n",
    "MongoDB is preferred over SQL databases in several scenarios:\n",
    "\n",
    "Flexible schema: MongoDB allows for dynamic and flexible schemas, meaning you can store different types of data\n",
    "                 in the same collection without needing a predefined schema. This flexibility is useful in scenarios \n",
    "                 where data structures evolve or vary across different records.\n",
    "\n",
    "Scalability: MongoDB is designed to scale horizontally, meaning it can handle large amounts of data by distributing \n",
    "             it across multiple servers or clusters. This scalability is crucial for applications with high data \n",
    "             volumes or rapid growth.\n",
    "\n",
    "Performance: MongoDB can provide high-performance reads and writes due to its ability to store related data together \n",
    "             in a single document, eliminating the need for complex joins that are typical in SQL databases.\n",
    "\n",
    "Agile development: MongoDB's document-oriented nature aligns well with agile development practices. \n",
    "                   It allows developers to iterate quickly, adapt to changing requirements, and add \n",
    "                   new fields or structures to documents without affecting existing data.\n",
    "\n",
    "Geospatial data: MongoDB has robust support for geospatial indexing and querying, making it a preferred choice for \n",
    "                 applications that deal with location-based data, such as mapping or geolocation services.\n",
    "\n",
    "\"\"\""
   ]
  },
  {
   "cell_type": "markdown",
   "id": "78b2022b-817a-4ef9-bd16-046c7f6af2fd",
   "metadata": {},
   "source": [
    "## Q2. State and Explain the features of MongoDB."
   ]
  },
  {
   "cell_type": "code",
   "execution_count": null,
   "id": "2d3b957a-a5d0-42de-813b-e4d0686daf01",
   "metadata": {},
   "outputs": [],
   "source": [
    "\"\"\"\n",
    "MongoDB offers several features that make it a popular choice for modern application development. \n",
    "Here are some key features of MongoDB:\n",
    "\n",
    "Document-Oriented: MongoDB stores data in flexible, JSON-like documents called BSON (Binary JSON). \n",
    "                   Documents can have varying structures and fields, allowing developers to evolve \n",
    "                   data models easily.\n",
    "\n",
    "High Scalability: MongoDB scales horizontally by sharding data across multiple servers or clusters. \n",
    "                  It can handle massive data volumes and high traffic loads by distributing the data \n",
    "                  across multiple machines.\n",
    "\n",
    "Flexible Schema: MongoDB's dynamic schema allows for easy data model changes. New fields can be added \n",
    "                 to documents without affecting existing data, enabling agile development and accommodating \n",
    "                 evolving requirements.\n",
    "\n",
    "Replication and High Availability: MongoDB supports automatic data replication through replica sets. \n",
    "                                   Replica sets provide redundancy and fault tolerance by maintaining \n",
    "                                   multiple copies of data across different servers, ensuring high \n",
    "                                   availability and data durability.\n",
    "\n",
    "Indexing and Querying: MongoDB provides rich indexing support, allowing for efficient querying and \n",
    "                       high-performance data retrieval. It supports various types of indexes, including \n",
    "                       single-field, compound, geospatial, and text indexes, enabling fast and precise data access.\n",
    "\n",
    "Aggregation Framework: MongoDB's powerful aggregation framework allows for complex data analysis and \n",
    "                       aggregation operations, such as grouping, filtering, and calculating aggregated results. \n",
    "                       It provides a flexible and expressive way to process data within the database.\n",
    "\n",
    "Geospatial Capabilities: MongoDB includes robust geospatial indexing and querying features. It supports the \n",
    "                         storage and indexing of geospatial data, enabling location-based queries and geospatial \n",
    "                         calculations.\n",
    "\n",
    "Full-text Search: MongoDB offers full-text search capabilities, allowing developers to perform text-based \n",
    "                  searches across documents. It supports advanced search features like stemming, text \n",
    "                  indexing, and relevance-based ranking.\n",
    "\n",
    "Transactions: MongoDB introduced multi-document ACID transactions in recent versions, providing transactional \n",
    "              consistency for complex operations involving multiple documents. Transactions ensure atomicity, \n",
    "              consistency, isolation, and durability for data modifications.\n",
    "\n",
    "\"\"\""
   ]
  },
  {
   "cell_type": "markdown",
   "id": "48529a8d-0a1a-4187-9d51-4e3bf8978503",
   "metadata": {},
   "source": [
    "## Q3. Write a code to connect MongoDB to Python. Also, create a database and a collection in MongoDB."
   ]
  },
  {
   "cell_type": "code",
   "execution_count": 1,
   "id": "f5912941-b61f-4663-946e-818e426dfdea",
   "metadata": {},
   "outputs": [
    {
     "ename": "ModuleNotFoundError",
     "evalue": "No module named 'pymongo'",
     "output_type": "error",
     "traceback": [
      "\u001b[0;31m---------------------------------------------------------------------------\u001b[0m",
      "\u001b[0;31mModuleNotFoundError\u001b[0m                       Traceback (most recent call last)",
      "Cell \u001b[0;32mIn[1], line 1\u001b[0m\n\u001b[0;32m----> 1\u001b[0m \u001b[38;5;28;01mimport\u001b[39;00m \u001b[38;5;21;01mpymongo\u001b[39;00m\n\u001b[1;32m      3\u001b[0m \u001b[38;5;66;03m# Establish a connection to MongoDB\u001b[39;00m\n\u001b[1;32m      4\u001b[0m client \u001b[38;5;241m=\u001b[39m pymongo\u001b[38;5;241m.\u001b[39mMongoClient(\u001b[38;5;124m\"\u001b[39m\u001b[38;5;124mmongodb://localhost:27017\u001b[39m\u001b[38;5;124m\"\u001b[39m)\n",
      "\u001b[0;31mModuleNotFoundError\u001b[0m: No module named 'pymongo'"
     ]
    }
   ],
   "source": [
    "import pymongo\n",
    "\n",
    "# Establish a connection to MongoDB\n",
    "client = pymongo.MongoClient(\"mongodb://localhost:27017\")\n",
    "\n",
    "# Create or access a database\n",
    "database = client[\"mydatabase\"]\n",
    "\n",
    "# Create or access a collection within the database\n",
    "collection = database[\"mycollection\"]\n",
    "\n",
    "# Insert a document into the collection\n",
    "data = {\"name\": \"John\", \"age\": 30}\n",
    "collection.insert_one(data)\n",
    "\n",
    "# Find documents in the collection\n",
    "documents = collection.find()\n",
    "\n",
    "# Print the documents\n",
    "for document in documents:\n",
    "    print(document)\n",
    "\n",
    "# Close the MongoDB connection\n",
    "client.close()\n"
   ]
  },
  {
   "cell_type": "markdown",
   "id": "ff9720eb-ace2-4ad3-ab69-0825fdf730a8",
   "metadata": {},
   "source": [
    "## Q4. Using the database and the collection created in question number 3, write a code to insert one record,and insert many records. Use the find() and find_one() methods to print the inserted record."
   ]
  },
  {
   "cell_type": "code",
   "execution_count": null,
   "id": "143f1ec1-c89d-4e77-b1ed-e4d79c515d28",
   "metadata": {},
   "outputs": [],
   "source": [
    "import pymongo\n",
    "\n",
    "# Establish a connection to MongoDB\n",
    "client = pymongo.MongoClient(\"mongodb://localhost:27017/\")\n",
    "\n",
    "# Access the database and collection\n",
    "database = client[\"mydatabase\"]\n",
    "collection = database[\"mycollection\"]\n",
    "\n",
    "# Insert one record\n",
    "document1 = {\"name\": \"Alice\", \"age\": 25}\n",
    "collection.insert_one(document1)\n",
    "print(\"Inserted record:\")\n",
    "print(document1)\n",
    "\n",
    "# Insert multiple records\n",
    "documents2 = [\n",
    "    {\"name\": \"Bob\", \"age\": 30},\n",
    "    {\"name\": \"Charlie\", \"age\": 35},\n",
    "    {\"name\": \"David\", \"age\": 40}\n",
    "]\n",
    "collection.insert_many(documents2)\n",
    "print(\"Inserted records:\")\n",
    "for document in documents2:\n",
    "    print(document)\n",
    "\n",
    "# Find and print the inserted records\n",
    "print(\"All records:\")\n",
    "for document in collection.find():\n",
    "    print(document)\n",
    "\n",
    "# Find and print one record\n",
    "print(\"One record:\")\n",
    "document = collection.find_one({\"name\": \"Alice\"})\n",
    "print(document)\n",
    "\n",
    "# Close the MongoDB connection\n",
    "client.close()\n"
   ]
  },
  {
   "cell_type": "markdown",
   "id": "98b5bd98-bcd6-4b2e-b250-141ba0ab7598",
   "metadata": {},
   "source": [
    "## Q5.Explain how you can use the find() method to query the MongoDB database. Write a simple code to demonstrate this."
   ]
  },
  {
   "cell_type": "code",
   "execution_count": null,
   "id": "3a003c07-664a-45b9-9d30-4b1153c17df0",
   "metadata": {},
   "outputs": [],
   "source": [
    "cursor = collection.find(query_filter)\n",
    "\n",
    "import pymongo\n",
    "\n",
    "# Establish a connection to MongoDB\n",
    "client = pymongo.MongoClient(\"mongodb://localhost:27017/\")\n",
    "\n",
    "# Access the database and collection\n",
    "database = client[\"mydatabase\"]\n",
    "collection = database[\"mycollection\"]\n",
    "\n",
    "# Find books published after the year 2000\n",
    "query_filter = {\"year\": {\"$gt\": 2000}}\n",
    "cursor = collection.find(query_filter)\n",
    "\n",
    "# Print the matched documents\n",
    "print(\"Books published after 2000:\")\n",
    "for document in cursor:\n",
    "    print(document)\n",
    "\n",
    "# Close the MongoDB connection\n",
    "client.close()\n"
   ]
  },
  {
   "cell_type": "markdown",
   "id": "4b91bd96-1000-4d05-9701-f31f7179f61f",
   "metadata": {},
   "source": [
    "## Q6. Explain the sort() method. Give an example to demonstrate sorting in MongoDB."
   ]
  },
  {
   "cell_type": "code",
   "execution_count": null,
   "id": "37877a80-94a0-4b9a-9ae8-662f7ca1f14b",
   "metadata": {},
   "outputs": [],
   "source": [
    "\"\"\"\n",
    "In MongoDB, the sort() method is used to sort the retrieved documents in a specific order. \n",
    "It allows you to specify one or more fields by which the documents should be sorted and \n",
    "the sorting order, which can be ascending (ascending order) or descending (descending order).\n",
    "\"\"\"\n",
    "\n",
    "cursor = collection.find().sort(sort_key, sort_order)\n",
    "\n",
    "import pymongo\n",
    "\n",
    "# Establish a connection to MongoDB\n",
    "client = pymongo.MongoClient(\"mongodb://localhost:27017/\")\n",
    "\n",
    "# Access the database and collection\n",
    "database = client[\"mydatabase\"]\n",
    "collection = database[\"mycollection\"]\n",
    "\n",
    "# Sort products by price in descending order\n",
    "cursor = collection.find().sort(\"price\", -1)\n",
    "\n",
    "# Print the sorted documents\n",
    "print(\"Products sorted by price (descending):\")\n",
    "for document in cursor:\n",
    "    print(document)\n",
    "\n",
    "# Close the MongoDB connection\n",
    "client.close()\n"
   ]
  },
  {
   "cell_type": "markdown",
   "id": "a2039fe2-22eb-400d-bc53-8593b3c4e64c",
   "metadata": {},
   "source": [
    "## Q7. Explain why delete_one(), delete_many(), and drop() is used."
   ]
  },
  {
   "cell_type": "code",
   "execution_count": null,
   "id": "f24c94cb-4ba8-4863-a39c-cfdfe13f55e5",
   "metadata": {},
   "outputs": [],
   "source": [
    "\"\"\"\n",
    "delete_one(): The delete_one() method is used to delete a single document that matches a specified filter. \n",
    "              It removes the first document that satisfies the filter criteria. If multiple documents match \n",
    "              the filter, only the first one encountered will be deleted.\n",
    "\"\"\"\n",
    "\n",
    "collection.delete_one({\"name\": \"John\"})\n",
    "\n",
    "\"\"\"\n",
    "delete_many(): The delete_many() method is used to delete multiple documents that match a specified filter. It removes all the documents that satisfy the filter criteria.\n",
    "\n",
    "Example usage:\n",
    "\n",
    "python\n",
    "Copy code\n",
    "collection.delete_many({\"age\": {\"$gte\": 30}})\n",
    "In this example, all documents with an age greater than or equal to 30 will be deleted.\n",
    "\n",
    "drop(): The drop() method is used to delete an entire collection from the database. It completely removes the collection and all its documents.\n",
    "\n",
    "Example usage:\n",
    "\n",
    "python\n",
    "Copy code\n",
    "collection.drop()"
   ]
  }
 ],
 "metadata": {
  "kernelspec": {
   "display_name": "Python 3 (ipykernel)",
   "language": "python",
   "name": "python3"
  },
  "language_info": {
   "codemirror_mode": {
    "name": "ipython",
    "version": 3
   },
   "file_extension": ".py",
   "mimetype": "text/x-python",
   "name": "python",
   "nbconvert_exporter": "python",
   "pygments_lexer": "ipython3",
   "version": "3.10.8"
  }
 },
 "nbformat": 4,
 "nbformat_minor": 5
}
