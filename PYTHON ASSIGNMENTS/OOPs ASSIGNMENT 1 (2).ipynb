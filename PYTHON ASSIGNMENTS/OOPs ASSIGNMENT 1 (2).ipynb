{
 "cells": [
  {
   "cell_type": "markdown",
   "id": "68a8f000-3694-434c-adda-58d5250f650f",
   "metadata": {},
   "source": [
    "Q1. Explain Class and Object with respect to Object-Oriented Programming. Give a suitable example."
   ]
  },
  {
   "cell_type": "code",
   "execution_count": 1,
   "id": "b88b4420-56d3-4e7a-afe3-121aaf5e77be",
   "metadata": {},
   "outputs": [
    {
     "data": {
      "text/plain": [
       "'sahil'"
      ]
     },
     "execution_count": 1,
     "metadata": {},
     "output_type": "execute_result"
    }
   ],
   "source": [
    "#Class - it is a function which defines some properties and behaviors of real world entity.\n",
    "#object - it is a real world entity\n",
    "\n",
    "\n",
    "class Test:  #this is a class\n",
    "    def __init__(self , name, age):\n",
    "        self.name = name\n",
    "        self.age = age\n",
    "    \n",
    "test_obj = Test(\"sahil\" , 18)  #test_obj is object\n",
    "\n",
    "test_obj.age  \n",
    "test_obj.name"
   ]
  },
  {
   "cell_type": "markdown",
   "id": "8a59663a-3f79-4645-8864-3598c9aa401e",
   "metadata": {},
   "source": [
    "Q2. Name the four pillars of OOPs."
   ]
  },
  {
   "cell_type": "code",
   "execution_count": 2,
   "id": "45dd912f-f3c1-4434-87b7-8375c0bb0bbe",
   "metadata": {},
   "outputs": [
    {
     "data": {
      "text/plain": [
       "'\\n1. Encapsulation\\n2. Abstraction\\n3. Polymorphism\\n4. Inheritance\\n'"
      ]
     },
     "execution_count": 2,
     "metadata": {},
     "output_type": "execute_result"
    }
   ],
   "source": [
    "# folowwing are thr four pilars of OOPs\n",
    "\n",
    "\"\"\"\n",
    "1. Encapsulation\n",
    "2. Abstraction\n",
    "3. Polymorphism\n",
    "4. Inheritance\n",
    "\"\"\""
   ]
  },
  {
   "cell_type": "markdown",
   "id": "a4bdf8ac-60cd-4e43-b658-be89d077b14f",
   "metadata": {},
   "source": [
    "Q3. Explain why the __init__() function is used. Give a suitable example."
   ]
  },
  {
   "cell_type": "code",
   "execution_count": 4,
   "id": "be0bcc20-1121-416c-b2aa-8398c2a24dbf",
   "metadata": {},
   "outputs": [
    {
     "data": {
      "text/plain": [
       "'Honda'"
      ]
     },
     "execution_count": 4,
     "metadata": {},
     "output_type": "execute_result"
    }
   ],
   "source": [
    "# __init__ is used foro pass the data in class funtion\n",
    "\n",
    "class Car:\n",
    "    def __init__(self , color , name, model):\n",
    "        self.color = color\n",
    "        self.name = name\n",
    "        self.model = model\n",
    "        \n",
    "car_obj = Car(\"Black\" , \"Honda\" , \"Sports\")\n",
    "\n",
    "car_obj.color\n",
    "car_obj.model\n",
    "car_obj.name"
   ]
  },
  {
   "cell_type": "markdown",
   "id": "1b6c70e8-2b5a-40c8-b328-6f6b4c377258",
   "metadata": {},
   "source": [
    "Q4. Why self is used in OOPs?"
   ]
  },
  {
   "cell_type": "code",
   "execution_count": 5,
   "id": "e65b8a94-2ee0-43f8-9724-2fcd419f9996",
   "metadata": {},
   "outputs": [],
   "source": [
    "\"\"\"\n",
    "self is used to access instance variables and invoke methods within a class, \n",
    "allowing methods to operate on the specific object it is \n",
    "called on and differentiate instance variables from local variables.\n",
    "\"\"\""
   ]
  },
  {
   "cell_type": "markdown",
   "id": "7a8f28b9-39ed-409b-a0d3-28e008f2e952",
   "metadata": {},
   "source": [
    "Q5. What is inheritance? Give an example for each type of inheritance."
   ]
  },
  {
   "cell_type": "code",
   "execution_count": 9,
   "id": "167f74a9-bb1d-4a8a-abe1-4448ffa6abee",
   "metadata": {},
   "outputs": [
    {
     "name": "stdout",
     "output_type": "stream",
     "text": [
      "Eating...\n",
      "Barking...\n"
     ]
    }
   ],
   "source": [
    "# when a class inherit properties from another class is called as inheritance.\n",
    "\n",
    "\n",
    "#1. Single inheritance: A subclass inherits properties and behaviors from a single base class. \n",
    "\n",
    "class Animal:\n",
    "    def eat(self):\n",
    "        print(\"Eating...\")\n",
    "\n",
    "class Dog(Animal):\n",
    "    def bark(self):\n",
    "        print(\"Barking...\")\n",
    "\n",
    "dog = Dog()\n",
    "dog.eat() \n",
    "dog.bark()\n"
   ]
  },
  {
   "cell_type": "code",
   "execution_count": 10,
   "id": "8a23ae3c-86a1-444b-b85c-71b2e95b0800",
   "metadata": {},
   "outputs": [
    {
     "name": "stdout",
     "output_type": "stream",
     "text": [
      "Flying...\n",
      "Swimming...\n",
      "Quack!\n"
     ]
    }
   ],
   "source": [
    "#2. Multiple inheritance: A subclass can inherit properties and behaviors from multiple base classes.\n",
    "\n",
    "class Flyer:\n",
    "    def fly(self):\n",
    "        print(\"Flying...\")\n",
    "\n",
    "class Swimmer:\n",
    "    def swim(self):\n",
    "        print(\"Swimming...\")\n",
    "\n",
    "class Duck(Flyer, Swimmer):\n",
    "    def quack(self):\n",
    "        print(\"Quack!\")\n",
    "\n",
    "duck = Duck()\n",
    "duck.fly()  \n",
    "duck.swim()  \n",
    "duck.quack() \n"
   ]
  },
  {
   "cell_type": "code",
   "execution_count": 11,
   "id": "7cef535a-28a7-4fa7-a5bd-e80b8bb89a71",
   "metadata": {},
   "outputs": [
    {
     "name": "stdout",
     "output_type": "stream",
     "text": [
      "Eating...\n",
      "Sleeping...\n",
      "Flying...\n"
     ]
    }
   ],
   "source": [
    "#3. Multilevel inheritance: A subclass inherits from another derived class, forming a hierarchy of inheritance.\n",
    "\n",
    "class Animal:\n",
    "    def eat(self):\n",
    "        print(\"Eating...\")\n",
    "\n",
    "class Mammal(Animal):\n",
    "    def sleep(self):\n",
    "        print(\"Sleeping...\")\n",
    "\n",
    "class Bat(Mammal):\n",
    "    def fly(self):\n",
    "        print(\"Flying...\")\n",
    "\n",
    "bat = Bat()\n",
    "bat.eat()\n",
    "bat.sleep() \n",
    "bat.fly()  \n"
   ]
  },
  {
   "cell_type": "code",
   "execution_count": 12,
   "id": "bcaffa07-a7eb-4ac9-9c63-e994e01a45a6",
   "metadata": {},
   "outputs": [
    {
     "name": "stdout",
     "output_type": "stream",
     "text": [
      "Driving...\n",
      "Honking...\n",
      "Driving...\n",
      "Doing a wheelie...\n"
     ]
    }
   ],
   "source": [
    "#4. Hierarchical inheritance: Multiple subclasses inherit from a single base class.\n",
    "\n",
    "class Vehicle:\n",
    "    def drive(self):\n",
    "        print(\"Driving...\")\n",
    "\n",
    "class Car(Vehicle):\n",
    "    def honk(self):\n",
    "        print(\"Honking...\")\n",
    "\n",
    "class Motorcycle(Vehicle):\n",
    "    def wheelie(self):\n",
    "        print(\"Doing a wheelie...\")\n",
    "\n",
    "car = Car()\n",
    "car.drive()\n",
    "car.honk()\n",
    "\n",
    "motorcycle = Motorcycle()\n",
    "motorcycle.drive() \n",
    "motorcycle.wheelie() \n"
   ]
  },
  {
   "cell_type": "code",
   "execution_count": null,
   "id": "648e0fa5-e449-45c4-a103-0f094181fc8f",
   "metadata": {},
   "outputs": [],
   "source": []
  }
 ],
 "metadata": {
  "kernelspec": {
   "display_name": "Python 3 (ipykernel)",
   "language": "python",
   "name": "python3"
  },
  "language_info": {
   "codemirror_mode": {
    "name": "ipython",
    "version": 3
   },
   "file_extension": ".py",
   "mimetype": "text/x-python",
   "name": "python",
   "nbconvert_exporter": "python",
   "pygments_lexer": "ipython3",
   "version": "3.10.8"
  }
 },
 "nbformat": 4,
 "nbformat_minor": 5
}
