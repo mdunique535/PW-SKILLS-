{
 "cells": [
  {
   "cell_type": "markdown",
   "id": "d279cbe8-ddd0-4a4b-85ee-f232b3137a0b",
   "metadata": {},
   "source": [
    "Q1, Create a vehicle class with an init method having instance variables as name_of_vehicle, max_speed\n",
    "and average_of_vehicle."
   ]
  },
  {
   "cell_type": "code",
   "execution_count": 1,
   "id": "0cae76f0-b879-4063-82be-d9ef40bcf910",
   "metadata": {},
   "outputs": [],
   "source": [
    "class vehicle:\n",
    "    def __init__(self ,name_of_vehicle, max_speed,average_of_vehicle):\n",
    "        self.name_of_vehicle = name_of_vehicle\n",
    "        self.max_speed = max_speed\n",
    "        self.average_of_vehicle = average_of_vehicle\n",
    "        "
   ]
  },
  {
   "cell_type": "markdown",
   "id": "5e74f59c-8cea-4826-8cfe-51bc3401d9e3",
   "metadata": {},
   "source": [
    "Q2. Create a child class car from the vehicle class created in Que 1, which will inherit the vehicle class.\n",
    "Create a method named seating_capacity which takes capacity as an argument and returns the name of\n",
    "the vehicle and its seating capacity."
   ]
  },
  {
   "cell_type": "code",
   "execution_count": 3,
   "id": "1045ee45-9521-4582-856e-a5d3e5eb6237",
   "metadata": {},
   "outputs": [],
   "source": [
    "class car(vehicle):\n",
    "    def seating_capacity(self , capacity):\n",
    "        return f\"{self.name_of_vehicle} has a seating cpacity of {self.capacity} people\"\n",
    "        "
   ]
  },
  {
   "cell_type": "markdown",
   "id": "d40f7ac2-678d-492a-860b-7de95e9cd2f7",
   "metadata": {},
   "source": [
    "Q3. What is multiple inheritance? Write a python code to demonstrate multiple inheritance."
   ]
  },
  {
   "cell_type": "markdown",
   "id": "77fadd2e-1063-46f4-87ef-afbd029af7c5",
   "metadata": {},
   "source": [
    "Answer :- when a single child class inherits multiple class methods or function is called as multiple inheritance."
   ]
  },
  {
   "cell_type": "code",
   "execution_count": 26,
   "id": "df20a478-3d03-45f6-874b-db9f5954b1d3",
   "metadata": {},
   "outputs": [],
   "source": [
    "class vehicle:\n",
    "    def Details1(self):\n",
    "        return \"My fav colour is black and tesla is my brand\"\n",
    "    \n",
    "class car:\n",
    "    def Details2(self):\n",
    "        return \"atleast 6 capacity needed and speed should be greater than 150 kmph\"  \n",
    "    \n",
    "class person(vehicle , car):\n",
    "    def i_love_car(self):\n",
    "        return \"i will buy this car\""
   ]
  },
  {
   "cell_type": "code",
   "execution_count": 27,
   "id": "a16d2544-2e39-4693-a22f-c70b92cd5b28",
   "metadata": {},
   "outputs": [],
   "source": [
    "#creating a obj instance of person class\n",
    "obj = person()"
   ]
  },
  {
   "cell_type": "code",
   "execution_count": 28,
   "id": "ecfaa6c4-3abe-46c9-8387-2769c324da18",
   "metadata": {},
   "outputs": [
    {
     "data": {
      "text/plain": [
       "'My fav colour is black and tesla is my brand'"
      ]
     },
     "execution_count": 28,
     "metadata": {},
     "output_type": "execute_result"
    }
   ],
   "source": [
    "# calling a Details1 function on obj instance\n",
    "obj.Details1()"
   ]
  },
  {
   "cell_type": "code",
   "execution_count": 29,
   "id": "d35cac8c-6379-41fb-b3d8-f66846e7e2e3",
   "metadata": {},
   "outputs": [
    {
     "data": {
      "text/plain": [
       "'atleast 6 capacity needed and speed should be greater than 150 kmph'"
      ]
     },
     "execution_count": 29,
     "metadata": {},
     "output_type": "execute_result"
    }
   ],
   "source": [
    "# calling a Details2 function on obj instance\n",
    "obj.Details2()"
   ]
  },
  {
   "cell_type": "code",
   "execution_count": 30,
   "id": "e83bf0c1-8b3c-4ea7-80e0-647cf19bf17c",
   "metadata": {},
   "outputs": [
    {
     "data": {
      "text/plain": [
       "'i will buy this car'"
      ]
     },
     "execution_count": 30,
     "metadata": {},
     "output_type": "execute_result"
    }
   ],
   "source": [
    "# calling a i_love_car function on obj instance\n",
    "obj.i_love_car()"
   ]
  },
  {
   "cell_type": "markdown",
   "id": "34367e9a-eae9-4e7b-922d-c9b4d5f9d6bf",
   "metadata": {},
   "source": [
    "Q4. What are getter and setter in python? Create a class and create a getter and a setter method in this\n",
    "class."
   ]
  },
  {
   "cell_type": "code",
   "execution_count": 31,
   "id": "a2d12452-d738-49f1-bbc1-6f80e3ef7760",
   "metadata": {},
   "outputs": [
    {
     "name": "stdout",
     "output_type": "stream",
     "text": [
      "John\n",
      "25\n",
      "Jane\n",
      "30\n"
     ]
    }
   ],
   "source": [
    "\"\"\"\n",
    "getters and setters are methods used to access and modify the attributes \n",
    "(variables) of a class. They provide a way to control the access to class \n",
    "attributes and enforce data encapsulation.\n",
    "\n",
    "\"\"\"\n",
    "\n",
    "\n",
    "class Person:\n",
    "    def __init__(self, name, age):\n",
    "        self._name = name\n",
    "        self._age = age\n",
    "\n",
    "    def get_name(self):\n",
    "        return self._name\n",
    "\n",
    "    def set_name(self, new_name):\n",
    "        self._name = new_name\n",
    "\n",
    "    def get_age(self):\n",
    "        return self._age\n",
    "\n",
    "    def set_age(self, new_age):\n",
    "        if new_age >= 0:\n",
    "            self._age = new_age\n",
    "        else:\n",
    "            print(\"Age cannot be negative.\")\n",
    "\n",
    "# Creating an instance of the Person class\n",
    "person = Person(\"John\", 25)\n",
    "\n",
    "# Using getter methods\n",
    "print(person.get_name())  \n",
    "print(person.get_age())   \n",
    "\n",
    "# Using setter methods\n",
    "person.set_name(\"Jane\")\n",
    "person.set_age(30)\n",
    "\n",
    "print(person.get_name())   \n",
    "print(person.get_age())   \n"
   ]
  },
  {
   "cell_type": "markdown",
   "id": "8bb56813-ffde-41a9-904e-f5133ac08e0a",
   "metadata": {},
   "source": [
    "Q5.What is method overriding in python? Write a python code to demonstrate method overriding."
   ]
  },
  {
   "cell_type": "code",
   "execution_count": 32,
   "id": "0ebe73af-8c98-49ea-afde-4a2484cff12a",
   "metadata": {},
   "outputs": [
    {
     "name": "stdout",
     "output_type": "stream",
     "text": [
      "Parent's display method\n",
      "Child's display method\n"
     ]
    }
   ],
   "source": [
    "\"\"\"\n",
    "Method overriding is a feature in object-oriented programming where a subclass provides \n",
    "a different implementation of a method that is already defined in its parent class. \n",
    "The subclass overrides the method to tailor its behavior according to its own requirements.\n",
    "\"\"\"\n",
    "\n",
    "class Parent:\n",
    "    def display(self):\n",
    "        print(\"Parent's display method\")\n",
    "\n",
    "class Child(Parent):\n",
    "    def display(self):\n",
    "        print(\"Child's display method\")\n",
    "\n",
    "# Creating instances of Parent and Child classes\n",
    "parent = Parent()\n",
    "child = Child()\n",
    "\n",
    "# Calling the display method on Parent and Child instances\n",
    "parent.display()  \n",
    "child.display()   \n"
   ]
  },
  {
   "cell_type": "code",
   "execution_count": null,
   "id": "2ac514c6-7d52-463f-b514-d66931b236af",
   "metadata": {},
   "outputs": [],
   "source": []
  }
 ],
 "metadata": {
  "kernelspec": {
   "display_name": "Python 3 (ipykernel)",
   "language": "python",
   "name": "python3"
  },
  "language_info": {
   "codemirror_mode": {
    "name": "ipython",
    "version": 3
   },
   "file_extension": ".py",
   "mimetype": "text/x-python",
   "name": "python",
   "nbconvert_exporter": "python",
   "pygments_lexer": "ipython3",
   "version": "3.10.8"
  }
 },
 "nbformat": 4,
 "nbformat_minor": 5
}
