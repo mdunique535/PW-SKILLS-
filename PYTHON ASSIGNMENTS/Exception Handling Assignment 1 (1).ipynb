{
 "cells": [
  {
   "cell_type": "markdown",
   "id": "bac748a5-124b-4940-b5e5-0a95ba42b453",
   "metadata": {},
   "source": [
    "Q1. What is an Exception in python? Write the difference between Exceptions and syntax errors.\n"
   ]
  },
  {
   "cell_type": "code",
   "execution_count": null,
   "id": "be14583a-78bb-47d2-b24f-392523b2380c",
   "metadata": {},
   "outputs": [],
   "source": [
    "\"\"\"\n",
    "Exceptions: \n",
    "Occur during program execution, \n",
    "disrupt the normal flow, can be raised and caught, \n",
    "and are represented by exception objects.\n",
    "\n",
    "Syntax errors: \n",
    "Detected during the parsing phase, prevent the program from running, \n",
    "and are related to violations of the Python language grammar rules.\n",
    "\"\"\"\n",
    "\n",
    "#Diffrence between Exceptions and syntax error\n",
    "\n",
    "\"\"\"\n",
    " Exceptions occur during program execution when an error or exceptional situation arises, \n",
    " while syntax errors are detected during the parsing phase before the program is executed.\n",
    "\"\"\""
   ]
  },
  {
   "cell_type": "markdown",
   "id": "5683d1c8-fec4-4c41-9341-40e6bb9473e2",
   "metadata": {},
   "source": [
    "Q2. What happens when an exception is not handled? Explain with an example."
   ]
  },
  {
   "cell_type": "code",
   "execution_count": 12,
   "id": "72c72880-aa91-43a7-b2b9-012073b328c4",
   "metadata": {},
   "outputs": [
    {
     "ename": "ZeroDivisionError",
     "evalue": "division by zero",
     "output_type": "error",
     "traceback": [
      "\u001b[0;31m---------------------------------------------------------------------------\u001b[0m",
      "\u001b[0;31mZeroDivisionError\u001b[0m                         Traceback (most recent call last)",
      "Cell \u001b[0;32mIn[12], line 12\u001b[0m\n\u001b[1;32m      9\u001b[0m num1 \u001b[38;5;241m=\u001b[39m \u001b[38;5;241m10\u001b[39m\n\u001b[1;32m     10\u001b[0m num2 \u001b[38;5;241m=\u001b[39m \u001b[38;5;241m0\u001b[39m\n\u001b[0;32m---> 12\u001b[0m result \u001b[38;5;241m=\u001b[39m \u001b[43mDivision\u001b[49m\u001b[43m(\u001b[49m\u001b[43mnum1\u001b[49m\u001b[43m,\u001b[49m\u001b[43mnum2\u001b[49m\u001b[43m)\u001b[49m\n\u001b[1;32m     13\u001b[0m \u001b[38;5;28mprint\u001b[39m(\u001b[38;5;124m\"\u001b[39m\u001b[38;5;124mResult is\u001b[39m\u001b[38;5;124m\"\u001b[39m , result)\n",
      "Cell \u001b[0;32mIn[12], line 6\u001b[0m, in \u001b[0;36mDivision\u001b[0;34m(a, b)\u001b[0m\n\u001b[1;32m      5\u001b[0m \u001b[38;5;28;01mdef\u001b[39;00m \u001b[38;5;21mDivision\u001b[39m(a,b):\n\u001b[0;32m----> 6\u001b[0m     result \u001b[38;5;241m=\u001b[39m \u001b[43ma\u001b[49m\u001b[38;5;241;43m/\u001b[39;49m\u001b[43mb\u001b[49m\n\u001b[1;32m      7\u001b[0m     \u001b[38;5;28;01mreturn\u001b[39;00m result\n",
      "\u001b[0;31mZeroDivisionError\u001b[0m: division by zero"
     ]
    }
   ],
   "source": [
    "\"\"\"\n",
    "when an exception is not getting handled , our program will stop executing the next line and give an error\n",
    "\"\"\"\n",
    "\n",
    "def Division(a,b):\n",
    "    result = a/b\n",
    "    return result\n",
    "    \n",
    "num1 = 10\n",
    "num2 = 0\n",
    "\n",
    "result = Division(num1,num2)\n",
    "print(\"Result is\" , result) #in this example we didn't handle the error and it give us and error and stop the programm from executing\n"
   ]
  },
  {
   "cell_type": "code",
   "execution_count": 15,
   "id": "c6f13770-5014-44a5-9ac3-c45d921700fc",
   "metadata": {},
   "outputs": [
    {
     "name": "stdout",
     "output_type": "stream",
     "text": [
      "division by zero\n"
     ]
    }
   ],
   "source": [
    "try :\n",
    "    def Division(a,b):\n",
    "        result = a/b\n",
    "        return result\n",
    "    \n",
    "    num1 = 10\n",
    "    num2 = 0\n",
    "\n",
    "    result = Division(num1,num2)\n",
    "    print(\"Result is\" , result)\n",
    "    \n",
    "except Exception as e:\n",
    "    print(e)             #in this example we handled the error and can run next line of our code instead of this error."
   ]
  },
  {
   "cell_type": "markdown",
   "id": "d9fc538b-b4d0-4efe-aba1-3a8d0fd428a9",
   "metadata": {},
   "source": [
    "Q3. Which Python statements are used to catch and handle exceptions? Explain with an example."
   ]
  },
  {
   "cell_type": "code",
   "execution_count": 16,
   "id": "221ec954-9d01-4aff-833c-fbb95243a91c",
   "metadata": {},
   "outputs": [
    {
     "name": "stdout",
     "output_type": "stream",
     "text": [
      "[Errno 2] No such file or directory: 'test2.txt'\n"
     ]
    }
   ],
   "source": [
    "#in python we use try and except block to catch and handle the error.\n",
    "\n",
    "try:\n",
    "    f = open(\"test2.txt\" , \"r\")\n",
    "    \n",
    "except Exception as e:\n",
    "    print(e)"
   ]
  },
  {
   "cell_type": "markdown",
   "id": "d7151759-4d4a-439b-bceb-7e022a25c23d",
   "metadata": {},
   "source": [
    "Q4. Explain with an example:\n",
    "\n",
    "1. try and else\n",
    "2. finally\n",
    "3. raise"
   ]
  },
  {
   "cell_type": "code",
   "execution_count": 19,
   "id": "6f74417b-1656-4d76-a8e7-0c1742db0171",
   "metadata": {},
   "outputs": [
    {
     "name": "stdin",
     "output_type": "stream",
     "text": [
      "Enter your numerator :  45\n",
      "Enter your Denominator :  j\n"
     ]
    },
    {
     "name": "stdout",
     "output_type": "stream",
     "text": [
      "Error : This is a value error\n"
     ]
    }
   ],
   "source": [
    "# Try and else\n",
    "\n",
    "try :\n",
    "    num1 = int(input(\"Enter your numerator : \"))\n",
    "    num2 = int(input(\"Enter your Denominator : \"))\n",
    "    \n",
    "    result = num1/num2\n",
    "    \n",
    "except ValueError :\n",
    "    print(\"Error : This is a value error\")\n",
    "    \n",
    "except ZeroDivisionError:\n",
    "    print(\"Error : This is a zero division error\")\n",
    "    \n",
    "else:\n",
    "    print(\"Your result is : \", result)\n",
    "    print(\"Your division is successfully occured\")"
   ]
  },
  {
   "cell_type": "code",
   "execution_count": 26,
   "id": "166c045b-82b6-49ef-b3c9-ec8ddf665999",
   "metadata": {},
   "outputs": [
    {
     "name": "stdout",
     "output_type": "stream",
     "text": [
      "Error: File not found.\n",
      "File handling completed.\n"
     ]
    }
   ],
   "source": [
    "# finally\n",
    "\n",
    "try:\n",
    "    file = open(\"test5.txt\", \"r\")\n",
    "    content = file.read()\n",
    "    print(\"File content:\", content)\n",
    "    \n",
    "except FileNotFoundError:\n",
    "    print(\"Error: File not found.\")\n",
    "    \n",
    "except Exception as e:\n",
    "    print(\"Error:\", str(e))\n",
    "    \n",
    "finally:\n",
    "     if file:\n",
    "        file.close()\n",
    "        print(\"File handling completed.\")"
   ]
  },
  {
   "cell_type": "code",
   "execution_count": 32,
   "id": "6a6d0acf-3b58-4bc6-865f-4fc8e31398a8",
   "metadata": {},
   "outputs": [
    {
     "name": "stdout",
     "output_type": "stream",
     "text": [
      "result is : 3.0\n"
     ]
    }
   ],
   "source": [
    "# raise\n",
    "\n",
    "def square_root(num):\n",
    "    if num < 0 :\n",
    "        raise ValueError(\"we can't find the square root of a negative number\")\n",
    "    else:\n",
    "        result = num ** 0.5\n",
    "        return result\n",
    "    \n",
    "try:\n",
    "    result1 = square_root(9)\n",
    "    print(\"result is :\" , result1)\n",
    "    \n",
    "except Exception as e:\n",
    "    print(e)\n",
    "    "
   ]
  },
  {
   "cell_type": "markdown",
   "id": "518a77a1-32be-4e79-8def-0a1952c8acfd",
   "metadata": {},
   "source": [
    "Q5. What are Custom Exceptions in python? Why do we need Custom Exceptions? Explain with an example."
   ]
  },
  {
   "cell_type": "code",
   "execution_count": 37,
   "id": "315ff49f-9fc2-4e3e-8509-c64b93ac2979",
   "metadata": {},
   "outputs": [
    {
     "name": "stdout",
     "output_type": "stream",
     "text": [
      "Error: Invalid data provided.\n"
     ]
    }
   ],
   "source": [
    "\"\"\"\n",
    "Custom exceptions in Python are user-defined exception classes that extend the built-in exception classes. \n",
    "They are created to handle specific errors or exceptional situations that are not covered by built-in exceptions. \n",
    "Custom exceptions improve code clarity, readability, and modularity. \n",
    "They allow for more specific error handling and can be reused across different parts of a program or in different projects.\n",
    "\"\"\"\n",
    "\n",
    "class CustomException(Exception):\n",
    "    pass\n",
    "\n",
    "def process_data(data):\n",
    "    if data is None:\n",
    "        raise CustomException(\"Invalid data provided.\")\n",
    "    else:\n",
    "        pass\n",
    "\n",
    "try:\n",
    "    input_data = None\n",
    "    process_data(input_data)\n",
    "except CustomException as ce:\n",
    "    print(\"Error:\", str(ce))\n"
   ]
  },
  {
   "cell_type": "markdown",
   "id": "7a27d537-b4c4-46c2-b17f-f9aa1436d349",
   "metadata": {},
   "source": [
    "Q6. Create custom exception class. Use this class to handle an exception."
   ]
  },
  {
   "cell_type": "code",
   "execution_count": 38,
   "id": "abfb0379-aaa3-468d-9bf4-02fc2f196057",
   "metadata": {},
   "outputs": [
    {
     "name": "stdout",
     "output_type": "stream",
     "text": [
      "Error: Value cannot be negative.\n"
     ]
    }
   ],
   "source": [
    "class CustomException(Exception):\n",
    "    pass\n",
    "\n",
    "def check_value(value):\n",
    "    if value < 0:\n",
    "        raise CustomException(\"Value cannot be negative.\")\n",
    "\n",
    "try:\n",
    "    num = -5\n",
    "    check_value(num)\n",
    "    print(\"Value is:\", num)\n",
    "except CustomException as ce:\n",
    "    print(\"Error:\", str(ce))\n"
   ]
  },
  {
   "cell_type": "code",
   "execution_count": null,
   "id": "89e1f588-85c1-4561-8cdd-698b29f468ef",
   "metadata": {},
   "outputs": [],
   "source": []
  }
 ],
 "metadata": {
  "kernelspec": {
   "display_name": "Python 3 (ipykernel)",
   "language": "python",
   "name": "python3"
  },
  "language_info": {
   "codemirror_mode": {
    "name": "ipython",
    "version": 3
   },
   "file_extension": ".py",
   "mimetype": "text/x-python",
   "name": "python",
   "nbconvert_exporter": "python",
   "pygments_lexer": "ipython3",
   "version": "3.10.8"
  }
 },
 "nbformat": 4,
 "nbformat_minor": 5
}
