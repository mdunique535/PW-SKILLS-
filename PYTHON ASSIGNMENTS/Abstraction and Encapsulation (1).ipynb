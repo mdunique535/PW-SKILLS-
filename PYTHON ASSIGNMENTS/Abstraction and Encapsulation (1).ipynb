{
 "cells": [
  {
   "cell_type": "markdown",
   "id": "745629a6-17b9-457e-a2df-0e6e0b9b58c1",
   "metadata": {},
   "source": [
    "Q1. What is Abstraction in OOps? Explain with an example."
   ]
  },
  {
   "cell_type": "code",
   "execution_count": 1,
   "id": "310a94b5-c8d5-43ed-80d9-04f9842825f3",
   "metadata": {},
   "outputs": [
    {
     "name": "stdout",
     "output_type": "stream",
     "text": [
      "15\n",
      "12.56\n"
     ]
    }
   ],
   "source": [
    "# hiding unneccessary data from user and only showing useful features to user is known as abstraction.\n",
    "\n",
    "from abc import ABC, abstractmethod\n",
    "\n",
    "class Shape(ABC):\n",
    "    @abstractmethod\n",
    "    def area(self):\n",
    "        pass\n",
    "\n",
    "class Rectangle(Shape):\n",
    "    def __init__(self, length, width):\n",
    "        self.length = length\n",
    "        self.width = width\n",
    "    \n",
    "    def area(self):\n",
    "        return self.length * self.width\n",
    "\n",
    "class Circle(Shape):\n",
    "    def __init__(self, radius):\n",
    "        self.radius = radius\n",
    "    \n",
    "    def area(self):\n",
    "        return 3.14 * self.radius * self.radius\n",
    "\n",
    "rectangle = Rectangle(5, 3)\n",
    "print(rectangle.area())\n",
    "\n",
    "circle = Circle(2)\n",
    "print(circle.area())\n"
   ]
  },
  {
   "cell_type": "markdown",
   "id": "cb0b3b18-ea8b-4f0f-92b1-cb67cf5c202e",
   "metadata": {},
   "source": [
    "Q2. Differentiate between Abstraction and Encapsulation. Explain with an example."
   ]
  },
  {
   "cell_type": "code",
   "execution_count": 2,
   "id": "f629d991-5ead-49b7-97a7-0f90c7a447b4",
   "metadata": {},
   "outputs": [
    {
     "name": "stdout",
     "output_type": "stream",
     "text": [
      "Woof!\n",
      "Meow!\n"
     ]
    }
   ],
   "source": [
    "\"\"\"\n",
    "The main difference between abstraction and encapsulation is that abstraction focuses on \n",
    "hiding implementation details and exposing essential features, \n",
    "while encapsulation focuses on bundling data and methods within a class and controlling access to them.\n",
    "\"\"\"\n",
    "\n",
    "#abstraction\n",
    "\n",
    "from abc import ABC, abstractmethod\n",
    "\n",
    "class Animal(ABC):\n",
    "    @abstractmethod\n",
    "    def make_sound(self):\n",
    "        pass\n",
    "\n",
    "class Dog(Animal):\n",
    "    def make_sound(self):\n",
    "        print(\"Woof!\")\n",
    "\n",
    "class Cat(Animal):\n",
    "    def make_sound(self):\n",
    "        print(\"Meow!\")\n",
    "\n",
    "dog = Dog()\n",
    "dog.make_sound()\n",
    "\n",
    "cat = Cat()\n",
    "cat.make_sound()\n"
   ]
  },
  {
   "cell_type": "code",
   "execution_count": 3,
   "id": "88194403-69da-4623-83f8-b17c8d8b3f63",
   "metadata": {},
   "outputs": [
    {
     "name": "stdout",
     "output_type": "stream",
     "text": [
      "1000\n",
      "1500\n",
      "1300\n"
     ]
    }
   ],
   "source": [
    "# Encapsulation\n",
    "\n",
    "class BankAccount:\n",
    "    def __init__(self, account_number, balance):\n",
    "        self.__account_number = account_number\n",
    "        self.__balance = balance\n",
    "\n",
    "    def get_balance(self):\n",
    "        return self.__balance\n",
    "\n",
    "    def deposit(self, amount):\n",
    "        self.__balance += amount\n",
    "\n",
    "    def withdraw(self, amount):\n",
    "        if amount <= self.__balance:\n",
    "            self.__balance -= amount\n",
    "        else:\n",
    "            print(\"Insufficient funds\")\n",
    "\n",
    "account = BankAccount(\"123456789\", 1000)\n",
    "print(account.get_balance())\n",
    "\n",
    "account.deposit(500)\n",
    "print(account.get_balance())\n",
    "\n",
    "account.withdraw(200)\n",
    "print(account.get_balance()) \n"
   ]
  },
  {
   "cell_type": "markdown",
   "id": "925b4198-271c-4b9f-8428-410317d2463f",
   "metadata": {},
   "source": [
    "Q3. What is abc module in python? Why is it used?"
   ]
  },
  {
   "cell_type": "code",
   "execution_count": 4,
   "id": "0c222fb2-c472-4d96-a617-5217c619a790",
   "metadata": {},
   "outputs": [
    {
     "name": "stdout",
     "output_type": "stream",
     "text": [
      "Woof!\n",
      "Meow!\n"
     ]
    }
   ],
   "source": [
    "\"\"\"\n",
    "The abc module in Python is used to create abstract base classes, \n",
    "which define a common interface for derived classes to adhere to, \n",
    "ensuring consistent behavior. It facilitates abstraction and enforces \n",
    "the implementation of specific methods in derived classes.\n",
    "\"\"\"\n",
    "\n",
    "from abc import ABC, abstractmethod\n",
    "\n",
    "class Animal(ABC):\n",
    "    @abstractmethod\n",
    "    def make_sound(self):\n",
    "        pass\n",
    "\n",
    "class Dog(Animal):\n",
    "    def make_sound(self):\n",
    "        print(\"Woof!\")\n",
    "\n",
    "class Cat(Animal):\n",
    "    def make_sound(self):\n",
    "        print(\"Meow!\")\n",
    "\n",
    "dog = Dog()\n",
    "dog.make_sound()\n",
    "\n",
    "cat = Cat()\n",
    "cat.make_sound()\n"
   ]
  },
  {
   "cell_type": "markdown",
   "id": "e9a21d8a-2f25-4147-aeb5-926123fd009f",
   "metadata": {},
   "source": [
    "Q4. How can we achieve data abstraction?"
   ]
  },
  {
   "cell_type": "code",
   "execution_count": 5,
   "id": "cba0070b-3163-4385-97fa-bd4142238581",
   "metadata": {},
   "outputs": [
    {
     "data": {
      "text/plain": [
       "'\\nWe can achieve data abstraction in Python through the use of classes and objects. \\nBy defining classes with attributes and methods, we can encapsulate data and provide \\na simplified interface for interacting with that data. The internal details of how \\nthe data is stored and manipulated are hidden from the user, \\nallowing them to focus on the essential features and behaviors provided by the class.\\n'"
      ]
     },
     "execution_count": 5,
     "metadata": {},
     "output_type": "execute_result"
    }
   ],
   "source": [
    "\"\"\"\n",
    "We can achieve data abstraction in Python through the use of classes and objects. \n",
    "By defining classes with attributes and methods, we can encapsulate data and provide \n",
    "a simplified interface for interacting with that data. The internal details of how \n",
    "the data is stored and manipulated are hidden from the user, \n",
    "allowing them to focus on the essential features and behaviors provided by the class.\n",
    "\"\"\""
   ]
  },
  {
   "cell_type": "markdown",
   "id": "07a2e85c-3e03-4f4c-ab44-458379f93028",
   "metadata": {},
   "source": [
    "Q5. Can we create an instance of an abstract class? Explain your answer."
   ]
  },
  {
   "cell_type": "code",
   "execution_count": 6,
   "id": "311442cb-03a3-4748-8fef-444a5df492ae",
   "metadata": {},
   "outputs": [
    {
     "data": {
      "text/plain": [
       "'\\n\\nNo, we cannot create an instance of an abstract class in Python because \\nabstract classes are incomplete and contain one or more abstract methods without implementations. \\nThey serve as blueprints for derived classes to inherit from and provide their own implementations. \\nOnly the derived classes, which are concrete classes, can be instantiated to create objects.\\n'"
      ]
     },
     "execution_count": 6,
     "metadata": {},
     "output_type": "execute_result"
    }
   ],
   "source": [
    "\"\"\"\n",
    "\n",
    "No, we cannot create an instance of an abstract class in Python because \n",
    "abstract classes are incomplete and contain one or more abstract methods without implementations. \n",
    "They serve as blueprints for derived classes to inherit from and provide their own implementations. \n",
    "Only the derived classes, which are concrete classes, can be instantiated to create objects.\n",
    "\"\"\""
   ]
  },
  {
   "cell_type": "code",
   "execution_count": null,
   "id": "5749a340-dc27-466a-9c22-9245b7705a57",
   "metadata": {},
   "outputs": [],
   "source": []
  }
 ],
 "metadata": {
  "kernelspec": {
   "display_name": "Python 3 (ipykernel)",
   "language": "python",
   "name": "python3"
  },
  "language_info": {
   "codemirror_mode": {
    "name": "ipython",
    "version": 3
   },
   "file_extension": ".py",
   "mimetype": "text/x-python",
   "name": "python",
   "nbconvert_exporter": "python",
   "pygments_lexer": "ipython3",
   "version": "3.10.8"
  }
 },
 "nbformat": 4,
 "nbformat_minor": 5
}
