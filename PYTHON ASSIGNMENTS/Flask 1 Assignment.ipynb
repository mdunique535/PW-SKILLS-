{
 "cells": [
  {
   "cell_type": "markdown",
   "id": "c3efe84d-516c-4ae4-adb3-8a46dd9a604f",
   "metadata": {},
   "source": [
    "## Q1. What is Flask Framework? What are the advantages of Flask Framework?"
   ]
  },
  {
   "cell_type": "code",
   "execution_count": null,
   "id": "6a398408-e964-4469-86d6-5e616f3e2a14",
   "metadata": {},
   "outputs": [],
   "source": [
    "\"\"\"\n",
    "Flask is a micro web framework written in Python. It provides a simple yet powerful way to build web applications. \n",
    "Flask is known for its minimalistic design and easy-to-use nature, making it a popular choice for developers to \n",
    "quickly create web applications and APIs.\n",
    "\n",
    "Advantages of Flask Framework:\n",
    "\n",
    "1. Simplicity: Flask follows a minimalist approach, allowing developers to focus on the core logic of their \n",
    "               application without unnecessary overhead. It has a small learning curve and a straightforward \n",
    "               API, making it easy to understand and work with.\n",
    "\n",
    "2. Flexibility: Flask provides great flexibility, allowing developers to choose the components they need \n",
    "                for their application. It does not impose any specific project structure or dependencies, \n",
    "                enabling developers to integrate various libraries and tools as per their requirements.\n",
    "\n",
    "3. Lightweight and Extensible: Flask is lightweight, meaning it has a small footprint and minimal dependencies. \n",
    "                               It allows developers to add functionality through a vast ecosystem of extensions,\n",
    "                               making it highly extensible. These extensions cover a wide range of areas such as \n",
    "                               database integration, authentication, and caching.\n",
    "\n",
    "4. Integrated Development Server: Flask comes with a built-in development server, making it easy to run and test \n",
    "                                  applications locally without the need for additional configuration. This feature \n",
    "                                  facilitates rapid development and debugging.\n",
    "\n",
    "5. Template Engine: Flask includes a powerful templating engine called Jinja2, which provides flexible and \n",
    "                    efficient rendering of HTML templates. It allows for dynamic content generation and easy \n",
    "                    separation of logic and presentation.\n",
    "\n",
    "6. RESTful API Development: Flask is well-suited for developing RESTful APIs. It provides features like routing, \n",
    "                            request handling, and response formatting, which are essential for building API endpoints. \n",
    "                            Flask's flexibility also enables developers to implement different data serialization \n",
    "                            formats, such as JSON or XML.\n",
    "\n",
    "7. Active Community and Documentation: Flask has a vibrant community of developers who contribute to its ecosystem by \n",
    "                                       creating extensions, tutorials, and providing support. It also has comprehensive \n",
    "                                       documentation that guides developers through various aspects of Flask development.\n",
    "\"\"\""
   ]
  },
  {
   "cell_type": "markdown",
   "id": "03553028-385f-44ba-b0ba-25786a3ac5eb",
   "metadata": {},
   "source": [
    "## Q2. Create a simple Flask application to display ‘Hello World!!’. Attach the screenshot of the output in Jupyter Notebook."
   ]
  },
  {
   "cell_type": "code",
   "execution_count": 2,
   "id": "3582e396-9482-4a9e-8026-5af2fdb42a43",
   "metadata": {},
   "outputs": [
    {
     "name": "stdout",
     "output_type": "stream",
     "text": [
      "Collecting flask\n",
      "  Downloading Flask-2.3.2-py3-none-any.whl (96 kB)\n",
      "\u001b[2K     \u001b[90m━━━━━━━━━━━━━━━━━━━━━━━━━━━━━━━━━━━━━━━━\u001b[0m \u001b[32m96.9/96.9 kB\u001b[0m \u001b[31m6.1 MB/s\u001b[0m eta \u001b[36m0:00:00\u001b[0m\n",
      "\u001b[?25hRequirement already satisfied: click>=8.1.3 in /opt/conda/lib/python3.10/site-packages (from flask) (8.1.3)\n",
      "Collecting itsdangerous>=2.1.2\n",
      "  Downloading itsdangerous-2.1.2-py3-none-any.whl (15 kB)\n",
      "Collecting Werkzeug>=2.3.3\n",
      "  Downloading Werkzeug-2.3.6-py3-none-any.whl (242 kB)\n",
      "\u001b[2K     \u001b[90m━━━━━━━━━━━━━━━━━━━━━━━━━━━━━━━━━━━━━━\u001b[0m \u001b[32m242.5/242.5 kB\u001b[0m \u001b[31m30.9 MB/s\u001b[0m eta \u001b[36m0:00:00\u001b[0m\n",
      "\u001b[?25hRequirement already satisfied: Jinja2>=3.1.2 in /opt/conda/lib/python3.10/site-packages (from flask) (3.1.2)\n",
      "Collecting blinker>=1.6.2\n",
      "  Downloading blinker-1.6.2-py3-none-any.whl (13 kB)\n",
      "Requirement already satisfied: MarkupSafe>=2.0 in /opt/conda/lib/python3.10/site-packages (from Jinja2>=3.1.2->flask) (2.1.1)\n",
      "Installing collected packages: Werkzeug, itsdangerous, blinker, flask\n",
      "  Attempting uninstall: blinker\n",
      "    Found existing installation: blinker 1.5\n",
      "    Uninstalling blinker-1.5:\n",
      "      Successfully uninstalled blinker-1.5\n",
      "Successfully installed Werkzeug-2.3.6 blinker-1.6.2 flask-2.3.2 itsdangerous-2.1.2\n",
      "Note: you may need to restart the kernel to use updated packages.\n"
     ]
    }
   ],
   "source": [
    "pip install flask"
   ]
  },
  {
   "cell_type": "code",
   "execution_count": null,
   "id": "cc841411-7fb1-4fcc-b6ec-cb26423ad4f7",
   "metadata": {},
   "outputs": [
    {
     "name": "stdout",
     "output_type": "stream",
     "text": [
      " * Serving Flask app '__main__'\n",
      " * Debug mode: off\n"
     ]
    },
    {
     "name": "stderr",
     "output_type": "stream",
     "text": [
      "WARNING: This is a development server. Do not use it in a production deployment. Use a production WSGI server instead.\n",
      " * Running on http://127.0.0.1:5000\n",
      "Press CTRL+C to quit\n"
     ]
    }
   ],
   "source": [
    "from flask import Flask\n",
    "\n",
    "app = Flask(__name__)\n",
    "\n",
    "@app.route('/')\n",
    "def hello():\n",
    "    return 'Hello World!!'\n",
    "\n",
    "if __name__ == '__main__':\n",
    "    app.run()\n"
   ]
  },
  {
   "cell_type": "markdown",
   "id": "07a733b2-d4d1-4592-a132-7b2141e4c07b",
   "metadata": {},
   "source": [
    "## Q3. What is App routing in Flask? Why do we use app routes?"
   ]
  },
  {
   "cell_type": "code",
   "execution_count": null,
   "id": "74f15699-a8e1-4743-8c41-35d91f6bdae5",
   "metadata": {},
   "outputs": [],
   "source": [
    "\"\"\"\n",
    "App routing in Flask refers to the process of mapping URLs to specific functions or view handlers in a Flask application. \n",
    "It allows you to define routes that determine how the application responds to different URL patterns.\n",
    "\"\"\"\n",
    "\n",
    "@app.route('/hello')\n",
    "def say_hello():\n",
    "    return 'Hello, Flask!'\n",
    "\n",
    "\"\"\"\n",
    "In this case, the route /hello is associated with the say_hello() function. \n",
    "Whenever a request is made to the /hello URL, Flask will call the say_hello() function \n",
    "and return the string 'Hello, Flask!'.\n",
    "\"\"\""
   ]
  },
  {
   "cell_type": "markdown",
   "id": "eb2cc8f2-48db-4ffa-afb2-ee2c810b7764",
   "metadata": {},
   "source": [
    "## Q4. Create a “/welcome” route to display the welcome message “Welcome to ABC Corporation” and a “/”\n",
    "## route to show the following details:\n",
    "## Company Name: ABC Corporation\n",
    "## Location: India\n",
    "## Contact Detail: 999-999-9999"
   ]
  },
  {
   "cell_type": "code",
   "execution_count": null,
   "id": "e6a07a11-65cf-4b6f-964b-2a2a484d5056",
   "metadata": {},
   "outputs": [],
   "source": [
    "from flask import Flask\n",
    "\n",
    "app = Flask(__name__)\n",
    "\n",
    "@app.route('/welcome')\n",
    "def welcome():\n",
    "    return 'Welcome to ABC Corporation'\n",
    "\n",
    "@app.route('/')\n",
    "def company_details():\n",
    "    return '''\n",
    "    Company Name: ABC Corporation<br>\n",
    "    Location: India<br>\n",
    "    Contact Detail: 999-999-9999\n",
    "    '''\n",
    "\n",
    "if __name__ == '__main__':\n",
    "    app.run()\n",
    "\n",
    "# OUTPUT :- Welcome to ABC Corporation\n"
   ]
  },
  {
   "cell_type": "markdown",
   "id": "b39a3ad7-4c36-4df4-873a-7d7ca6924afd",
   "metadata": {},
   "source": [
    "## Q5. What function is used in Flask for URL Building? Write a Python code to demonstrate the working of the url_for() function."
   ]
  },
  {
   "cell_type": "code",
   "execution_count": null,
   "id": "9dc15c10-ea66-455c-8965-372d3e9fc595",
   "metadata": {},
   "outputs": [],
   "source": []
  }
 ],
 "metadata": {
  "kernelspec": {
   "display_name": "Python 3 (ipykernel)",
   "language": "python",
   "name": "python3"
  },
  "language_info": {
   "codemirror_mode": {
    "name": "ipython",
    "version": 3
   },
   "file_extension": ".py",
   "mimetype": "text/x-python",
   "name": "python",
   "nbconvert_exporter": "python",
   "pygments_lexer": "ipython3",
   "version": "3.10.8"
  }
 },
 "nbformat": 4,
 "nbformat_minor": 5
}
