{
 "cells": [
  {
   "cell_type": "markdown",
   "id": "5612a32e-b7ab-45db-a219-f03046c25ad8",
   "metadata": {},
   "source": [
    "Q1. What is multiprocessing in python? Why is it useful?"
   ]
  },
  {
   "cell_type": "code",
   "execution_count": null,
   "id": "715b7cd0-fc98-48db-a1dd-325dbf723017",
   "metadata": {},
   "outputs": [],
   "source": [
    "\"\"\"\n",
    "Multiprocessing in Python refers to the ability of a program to utilize multiple processors or CPU cores to execute tasks \n",
    "concurrently. It allows for the creation and management of multiple processes, each of which can execute different parts \n",
    "of a program independently.\n",
    "\n",
    "Multiprocessing is useful for several reasons:\n",
    "\n",
    "1. Parallel Execution\n",
    "\n",
    "2. Efficient Resource Utilization \n",
    "\n",
    "3. Improved Responsiveness\n",
    "\n",
    "4. Isolation and Fault Tolerance\n",
    "\n",
    "5. Modularity and Code Organization \n",
    "\"\"\""
   ]
  },
  {
   "cell_type": "markdown",
   "id": "f64546e8-18a7-4241-9691-d566749eaff0",
   "metadata": {},
   "source": [
    "Q2. What are the differences between multiprocessing and multithreading?"
   ]
  },
  {
   "cell_type": "code",
   "execution_count": null,
   "id": "391d2f28-3c2f-45d6-b8b6-a1b3f6360330",
   "metadata": {},
   "outputs": [],
   "source": [
    "\"\"\"\n",
    "The main differences between multiprocessing and multithreading are as follows:\n",
    "\n",
    "1. Parallelism vs. Concurrency: Multiprocessing achieves parallelism by executing tasks across multiple processes that \n",
    "                                can run on different CPU cores simultaneously. Each process has its own memory space. \n",
    "                                On the other hand, multithreading achieves concurrency within a single process by \n",
    "                                executing multiple threads. Threads share the same memory space.\n",
    "\n",
    "2. Resource Utilization: Multiprocessing makes efficient use of system resources, such as CPU cores, as each process \n",
    "                         runs independently. It can fully utilize multiple cores for simultaneous execution. \n",
    "                         In contrast, multithreading operates within a single process and shares the same resources, \n",
    "                         such as memory and CPU time. While multithreading can enhance concurrency, it may not fully \n",
    "                         utilize multiple cores due to the Global Interpreter Lock (GIL) in CPython.\n",
    "\n",
    "3. Memory Isolation: In multiprocessing, each process has its own memory space, ensuring memory isolation. \n",
    "                     If one process crashes or encounters an error, it does not affect other processes. \n",
    "                     In multithreading, all threads within a process share the same memory space. \n",
    "                     Consequently, errors or crashes in one thread can potentially affect the stability of the entire process.\n",
    "\n",
    "4. Communication and Synchronization: Inter-process communication in multiprocessing requires explicit mechanisms like pipes, \n",
    "                                      queues, or shared memory to exchange data between processes. Synchronization between \n",
    "                                      processes is achieved using mechanisms like locks or semaphores. In multithreading, \n",
    "                                      communication and data sharing between threads is simpler since they share the same \n",
    "                                      memory space. However, proper synchronization mechanisms must be employed to avoid \n",
    "                                      race conditions and ensure thread safety.\n",
    "\n",
    "5. Complexity: Multiprocessing generally involves more overhead and complexity due to the management of separate \n",
    "               processes and inter-process communication. Multithreading is typically simpler to implement and \n",
    "               manage since threads share the same memory space. However, multithreading requires careful \n",
    "               synchronization to avoid race conditions and other concurrency issues.\n",
    "\"\"\""
   ]
  },
  {
   "cell_type": "markdown",
   "id": "854db247-5fca-4a3d-9788-84acd2c440d3",
   "metadata": {},
   "source": [
    "Q3. Write a python code to create a process using the multiprocessing module."
   ]
  },
  {
   "cell_type": "code",
   "execution_count": 1,
   "id": "97b61d86-8aba-4864-a65e-0f448fe14638",
   "metadata": {},
   "outputs": [
    {
     "name": "stdout",
     "output_type": "stream",
     "text": [
      "This is a child process\n",
      "Main process completed\n"
     ]
    }
   ],
   "source": [
    "import multiprocessing\n",
    "\n",
    "def process_function():\n",
    "    print(\"This is a child process\")\n",
    "\n",
    "if __name__ == \"__main__\":\n",
    "    # Create a process\n",
    "    process = multiprocessing.Process(target=process_function)\n",
    "\n",
    "    # Start the process\n",
    "    process.start()\n",
    "\n",
    "    # Wait for the process to finish\n",
    "    process.join()\n",
    "\n",
    "    print(\"Main process completed\")\n"
   ]
  },
  {
   "cell_type": "markdown",
   "id": "e527b8fe-2594-4f31-95e0-28b400cb5e6e",
   "metadata": {},
   "source": [
    "Q4. What is a multiprocessing pool in python? Why is it used?"
   ]
  },
  {
   "cell_type": "code",
   "execution_count": null,
   "id": "b401a255-13c3-48f3-b191-79a6d4b9dff5",
   "metadata": {},
   "outputs": [],
   "source": [
    "\"\"\"\n",
    "A multiprocessing pool is used to achieve parallelism and improve the performance of programs that involve executing \n",
    "a large number of similar or independent tasks. It provides a higher-level interface for managing the creation, allocation, \n",
    "and execution of processes, relieving the programmer from the low-level details of process management.\n",
    "\n",
    "Here are a few key benefits and use cases of using a multiprocessing pool:\n",
    "\n",
    "1. Parallel Execution \n",
    "\n",
    "2. Resource Management \n",
    "\n",
    "3. Task Distribution\n",
    "\n",
    "4. Simplified Programming Model\n",
    "\n",
    "\"\"\""
   ]
  },
  {
   "cell_type": "markdown",
   "id": "a1264142-c70a-4b01-81c1-934d0e67c89d",
   "metadata": {},
   "source": [
    "Q5. How can we create a pool of worker processes in python using the multiprocessing module?"
   ]
  },
  {
   "cell_type": "code",
   "execution_count": 2,
   "id": "66c21114-4245-4659-988a-64c28b15ffc8",
   "metadata": {},
   "outputs": [
    {
     "name": "stdout",
     "output_type": "stream",
     "text": [
      "[2, 4, 6, 8, 10]\n"
     ]
    }
   ],
   "source": [
    "import multiprocessing\n",
    "\n",
    "def process_function(data):\n",
    "    # Perform some task using the data\n",
    "    result = data * 2\n",
    "    return result\n",
    "\n",
    "if __name__ == \"__main__\":\n",
    "    # Create a pool of worker processes\n",
    "    pool = multiprocessing.Pool()\n",
    "\n",
    "    # Define the data to be processed\n",
    "    data_list = [1, 2, 3, 4, 5]\n",
    "\n",
    "    # Apply the process_function to the data using the pool\n",
    "    results = pool.map(process_function, data_list)\n",
    "\n",
    "    # Close the pool and wait for the work to finish\n",
    "    pool.close()\n",
    "    pool.join()\n",
    "\n",
    "    print(results)\n"
   ]
  },
  {
   "cell_type": "markdown",
   "id": "d6e0b71f-e7de-429f-8bb8-3c8ed6fd22aa",
   "metadata": {},
   "source": [
    "Q6. Write a python program to create 4 processes, each process should print a different number using the\n",
    "multiprocessing module in python."
   ]
  },
  {
   "cell_type": "code",
   "execution_count": 3,
   "id": "9ae5ac1b-920b-42df-b9a0-2d07806f46e7",
   "metadata": {},
   "outputs": [
    {
     "name": "stdout",
     "output_type": "stream",
     "text": [
      "Process 1Process  prints2 Process 1prints\n",
      "  32 Process\n",
      "prints  43 \n",
      "prints 4\n",
      "All processes have finished\n"
     ]
    }
   ],
   "source": [
    "import multiprocessing\n",
    "\n",
    "def print_number(number):\n",
    "    print(\"Process\", number, \"prints\", number)\n",
    "\n",
    "if __name__ == \"__main__\":\n",
    "    processes = []\n",
    "    for i in range(1, 5):\n",
    "        process = multiprocessing.Process(target=print_number, args=(i,))\n",
    "        processes.append(process)\n",
    "        process.start()\n",
    "\n",
    "    for process in processes:\n",
    "        process.join()\n",
    "\n",
    "    print(\"All processes have finished\")\n"
   ]
  },
  {
   "cell_type": "code",
   "execution_count": null,
   "id": "a08440ac-5ee7-479e-99bf-3cf8a63dc9d4",
   "metadata": {},
   "outputs": [],
   "source": []
  }
 ],
 "metadata": {
  "kernelspec": {
   "display_name": "Python 3 (ipykernel)",
   "language": "python",
   "name": "python3"
  },
  "language_info": {
   "codemirror_mode": {
    "name": "ipython",
    "version": 3
   },
   "file_extension": ".py",
   "mimetype": "text/x-python",
   "name": "python",
   "nbconvert_exporter": "python",
   "pygments_lexer": "ipython3",
   "version": "3.10.8"
  }
 },
 "nbformat": 4,
 "nbformat_minor": 5
}
