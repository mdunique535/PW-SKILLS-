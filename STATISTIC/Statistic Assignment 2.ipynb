{
 "cells": [
  {
   "cell_type": "markdown",
   "id": "d0941f87-ff83-4066-918b-d3d0a98cca4b",
   "metadata": {},
   "source": [
    "Q1. What are the three measures of central tendency?"
   ]
  },
  {
   "cell_type": "code",
   "execution_count": null,
   "id": "09b850b3-570b-4233-913d-d6dd190ec28d",
   "metadata": {},
   "outputs": [],
   "source": [
    "\"\"\"\n",
    "The three measures of central tendency are:\n",
    "\n",
    "Mean: The arithmetic average of a dataset, calculated by summing all the data values \n",
    "      and dividing by the total number of values.\n",
    "\n",
    "Median: The middle value in an ordered dataset. If the dataset has an odd number of \n",
    "        values, the median is the middle value. If the dataset has an even number of \n",
    "        values, the median is the average of the two middle values.\n",
    "\n",
    "Mode: The value that appears most frequently in a dataset.\n",
    "\"\"\""
   ]
  },
  {
   "cell_type": "markdown",
   "id": "c28056e5-9965-46a0-907b-6582c5cc0349",
   "metadata": {},
   "source": [
    "Q2. What is the difference between the mean, median, and mode? How are they used to measure the\n",
    "central tendency of a dataset?"
   ]
  },
  {
   "cell_type": "code",
   "execution_count": null,
   "id": "08d13aa7-95ad-4f2a-8d8d-373ce4eff009",
   "metadata": {},
   "outputs": [],
   "source": [
    "\"\"\"\n",
    "Mean:\n",
    "            Calculation: The mean is calculated by summing all the data values and dividing by \n",
    "                         the total number of values in the dataset.\n",
    "Sensitivity to Outliers: The mean is sensitive to extreme values or outliers since \n",
    "                         it takes into account all data points. Outliers can significantly \n",
    "                         affect the value of the mean, pulling it towards their direction.\n",
    "                    Use: The mean is commonly used when the data is approximately normally distributed \n",
    "                         or when there are no significant outliers. It provides a good representation\n",
    "                         of the overall average value of the dataset.\n",
    "Median:\n",
    "            Calculation: The median is the middle value in an ordered dataset. If the dataset has \n",
    "                         an odd number of values, the median is the middle value. If the dataset \n",
    "                         has an even number of values, the median is the average of the two middle values.\n",
    " Resistance to Outliers: The median is resistant to outliers since it only depends on the order of values, \n",
    "                         not their actual magnitude. It represents the value separating the lower half \n",
    "                         from the upper half of the data.\n",
    "                    Use: The median is particularly useful when dealing with skewed datasets or datasets \n",
    "                         with significant outliers. It provides a measure of the central value that is \n",
    "                         less affected by extreme values.\n",
    "Mode:\n",
    "            Calculation: The mode is the value that appears most frequently in a dataset.\n",
    "                    Use: The mode is used primarily for categorical data or discrete data with distinct \n",
    "                         categories. It represents the most common value in the dataset.\n",
    "\"\"\""
   ]
  },
  {
   "cell_type": "markdown",
   "id": "1cd657c7-d414-47f7-850c-aaa80941be69",
   "metadata": {},
   "source": [
    "Q3. Measure the three measures of central tendency for the given height data:\n",
    "[178,177,176,177,178.2,178,175,179,180,175,178.9,176.2,177,172.5,178,176.5]"
   ]
  },
  {
   "cell_type": "code",
   "execution_count": 1,
   "id": "d8e10927-2ced-48dd-87b7-7d1250c93102",
   "metadata": {},
   "outputs": [
    {
     "name": "stdout",
     "output_type": "stream",
     "text": [
      " Height Mean : 177.01875\n",
      " Height Median : 177.0\n",
      " Height Mode : 178\n"
     ]
    }
   ],
   "source": [
    "import numpy as np\n",
    "import statistics\n",
    "\n",
    "Height = [178,177,176,177,178.2,178,175,179,180,175,178.9,176.2,177,172.5,178,176.5]\n",
    "\n",
    "# MEAN\n",
    "\n",
    "height_mean = np.mean(Height)\n",
    "\n",
    "# MEDIAN\n",
    "\n",
    "height_median = np.median(Height)\n",
    "\n",
    "# MODE\n",
    "\n",
    "height_mode = statistics.mode(Height)\n",
    "\n",
    "\n",
    "print(\" Height Mean :\" , height_mean)\n",
    "print(\" Height Median :\" , height_median)\n",
    "print(\" Height Mode :\" , height_mode)"
   ]
  },
  {
   "cell_type": "markdown",
   "id": "6168ac98-2ef6-4803-a7b5-7d04e4438fbb",
   "metadata": {},
   "source": [
    "Q4. Find the standard deviation for the given data:\n",
    "[178,177,176,177,178.2,178,175,179,180,175,178.9,176.2,177,172.5,178,176.5]"
   ]
  },
  {
   "cell_type": "code",
   "execution_count": 2,
   "id": "3f9e44f5-1ab9-4d39-95b7-b99b579eeb58",
   "metadata": {},
   "outputs": [
    {
     "name": "stdout",
     "output_type": "stream",
     "text": [
      "Standard Deviation of Data : 1.7885814036548633\n"
     ]
    }
   ],
   "source": [
    "data = [178,177,176,177,178.2,178,175,179,180,175,178.9,176.2,177,172.5,178,176.5]\n",
    "\n",
    "height_std = np.std(data)\n",
    "\n",
    "print(\"Standard Deviation of Data :\" , height_std)"
   ]
  },
  {
   "cell_type": "markdown",
   "id": "7ce5c361-1717-4b60-8cf5-62abcfc29b7f",
   "metadata": {},
   "source": [
    "Q5. How are measures of dispersion such as range, variance, and standard deviation used to describe\n",
    "the spread of a dataset? Provide an example."
   ]
  },
  {
   "cell_type": "code",
   "execution_count": 10,
   "id": "07cfd013-10ff-46ac-b41a-cd12687365b2",
   "metadata": {},
   "outputs": [
    {
     "name": "stdout",
     "output_type": "stream",
     "text": [
      "Range : 23\n",
      "Variance : 51.81\n",
      "Standard Deviation : 7.197916365171244\n"
     ]
    },
    {
     "data": {
      "text/plain": [
       "'\\nThe standard deviation is approximately 8.7, providing a more interpretable measure of the spread of scores around the mean.\\n'"
      ]
     },
     "execution_count": 10,
     "metadata": {},
     "output_type": "execute_result"
    }
   ],
   "source": [
    "\"\"\"\n",
    "Measures of dispersion, such as range, variance, and standard deviation, are used to quantify \n",
    "the spread or variability of a dataset. They provide valuable information about how much the \n",
    "individual data points deviate from the central tendency (mean, median, or mode), giving insights \n",
    "into the distribution and diversity of the data.\n",
    "\"\"\"\n",
    "\n",
    "# Let's see how each measure of dispersion works using an example:\n",
    "\n",
    "# Example: Consider the following dataset representing the scores of ten students in a math test: \n",
    "\n",
    "data1 = [78, 85, 90, 92, 72, 88, 82, 95, 80, 75]\n",
    "\n",
    "\"\"\"\n",
    "Range:\n",
    "The range is the simplest measure of dispersion, representing the difference between the maximum and minimum \n",
    "values in the dataset.\n",
    "\"\"\"\n",
    "\n",
    "# Calculation: Range = Maximum value - Minimum value\n",
    "Range = np.max(data1) - np.min(data1)\n",
    "\n",
    "print(\"Range :\" , Range) # output = 23\n",
    "\n",
    "# The range is 23, indicating that the spread of scores in the math test is 23 points.\n",
    "\n",
    "\"\"\"\n",
    "Variance:\n",
    "The variance measures the average of the squared differences between each data point and the mean of the dataset. \n",
    "It quantifies the spread of data points around the mean.\n",
    "\"\"\"\n",
    "\n",
    "# Calculate the variance.\n",
    "Variance = np.var(data1)\n",
    "\n",
    "print(\"Variance :\", Variance) # Output = 51.81\n",
    "\n",
    "# The variance is 51.81, representing the average squared deviation of data points from the mean.\n",
    "\n",
    "\"\"\"\n",
    "Standard Deviation:\n",
    "The standard deviation is the square root of the variance. It is often preferred over the variance because it is in the same unit as the original data, making it more interpretable.\n",
    "\"\"\"\n",
    "\n",
    "Standard_Deviation = np.std(data1)\n",
    "\n",
    "print(\"Standard Deviation :\" ,Standard_Deviation )\n",
    "\n",
    "# The standard deviation is approximately 7.19 , providing a more interpretable measure of the spread of scores around the mean.\n"
   ]
  },
  {
   "cell_type": "markdown",
   "id": "2d9ffd6e-1752-40d4-9558-e42f4372c11c",
   "metadata": {},
   "source": [
    "Q6. What is a Venn diagram?"
   ]
  },
  {
   "cell_type": "code",
   "execution_count": null,
   "id": "54aa07b5-6a98-4cbe-9193-1789a0b64f0b",
   "metadata": {},
   "outputs": [],
   "source": [
    "\"\"\"\n",
    "A Venn diagram is a visual representation used to show the relationships between different sets of items. \n",
    "It consists of overlapping circles (or other shapes) that represent the sets, with the overlapping regions \n",
    "indicating the elements that are common to multiple sets.\n",
    "\"\"\""
   ]
  },
  {
   "cell_type": "markdown",
   "id": "f76ffb39-775c-4a0e-9adb-3d8a54cce22a",
   "metadata": {},
   "source": [
    "Q7. For the two given sets A = (2,3,4,5,6,7) & B = (0,2,6,8,10). Find:\n",
    "(i) A n B\n",
    "(ii) A ⋃ B"
   ]
  },
  {
   "cell_type": "code",
   "execution_count": 11,
   "id": "38b61c84-15bf-4328-8711-8d986686fd37",
   "metadata": {},
   "outputs": [
    {
     "name": "stdout",
     "output_type": "stream",
     "text": [
      "Intersection of A and B: {2, 6}\n",
      "Union of A and B: {0, 2, 3, 4, 5, 6, 7, 8, 10}\n"
     ]
    }
   ],
   "source": [
    "A = {2, 3, 4, 5, 6, 7}\n",
    "B = {0, 2, 6, 8, 10}\n",
    "\n",
    "# (i) Intersection (A ∩ B)\n",
    "intersection_result = A.intersection(B)\n",
    "print(\"Intersection of A and B:\", intersection_result)\n",
    "\n",
    "# (ii) Union (A ∪ B)\n",
    "union_result = A.union(B)\n",
    "print(\"Union of A and B:\", union_result)\n"
   ]
  },
  {
   "cell_type": "markdown",
   "id": "8a2d061e-8dcd-4b1d-adea-e5298b33085d",
   "metadata": {},
   "source": [
    "Q8. What do you understand about skewness in data?"
   ]
  },
  {
   "cell_type": "code",
   "execution_count": null,
   "id": "bdefa623-7aba-4910-9201-d977cf0135b5",
   "metadata": {},
   "outputs": [],
   "source": [
    "\"\"\"\n",
    "Skewness in data refers to the asymmetry of the data distribution around its central tendency \n",
    "(mean, median, or mode). When a dataset is symmetric, the two tails of the distribution are \n",
    "roughly equal in length, and the data is evenly distributed around the central value. However, \n",
    "in skewed data, one tail is longer than the other, resulting in an unbalanced distribution.\n",
    "\n",
    "There are two main types of skewness:\n",
    "\n",
    "1) Positive Skewness (Right Skewness): The longer tail extends to the right, and the majority of data is \n",
    "                                       concentrated on the left side. The mean is typically greater than \n",
    "                                       the median.\n",
    "2) Negative Skewness (Left Skewness): The longer tail extends to the left, and the majority of data is \n",
    "                                      concentrated on the right side. The mean is typically less than \n",
    "                                      the median.\n",
    "                                      \n",
    "Skewness is essential in data analysis because it can impact the interpretation of the central tendency \n",
    "and the spread of data. Understanding the direction and magnitude of skewness helps identify outliers \n",
    "and assess the distribution's overall shape, enabling researchers to make more informed decisions in \n",
    "statistical modeling and analysis.\n",
    "\"\"\""
   ]
  },
  {
   "cell_type": "markdown",
   "id": "d025ab97-3b7a-44e4-9423-acd185aeae6e",
   "metadata": {},
   "source": [
    "Q9. If a data is right skewed then what will be the position of median with respect to mean?"
   ]
  },
  {
   "cell_type": "code",
   "execution_count": null,
   "id": "e62b4a2a-f525-4024-a188-cab644c4904e",
   "metadata": {},
   "outputs": [],
   "source": [
    "\"\"\"\n",
    "If a dataset is right-skewed, the median will be positioned to the left of the mean.\n",
    "\n",
    "In a right-skewed distribution, the tail of the data points extends towards the higher values, \n",
    "causing the mean to be pulled to the right (higher values) due to the influence of the extreme \n",
    "values. As a result, the mean is greater than the median.\n",
    "\"\"\""
   ]
  },
  {
   "cell_type": "markdown",
   "id": "ce6d6901-7403-462d-bda4-71ec0ec80f9a",
   "metadata": {},
   "source": [
    "Q10. Explain the difference between covariance and correlation. How are these measures used in\n",
    "statistical analysis?"
   ]
  },
  {
   "cell_type": "code",
   "execution_count": null,
   "id": "02675de1-c08c-47cb-8d1e-e1f85df5ba44",
   "metadata": {},
   "outputs": [],
   "source": [
    "\"\"\"\n",
    "Covariance:\n",
    "Covariance measures the degree to which two variables change together. It indicates the direction \n",
    "of the relationship (positive or negative) and whether the variables tend to increase or decrease \n",
    "together. However, the magnitude of the covariance is not standardized and depends on the scales \n",
    "of the variables, making it difficult to compare across different datasets.\n",
    "\n",
    "Calculation: For two variables X and Y with n data points, the covariance is calculated as follows:\n",
    "Cov(X, Y) = Σ [(Xᵢ - X̄) * (Yᵢ - Ȳ)] / n\n",
    "\n",
    "Correlation:\n",
    "Correlation is a standardized measure that quantifies the strength and direction of the linear \n",
    "relationship between two variables. Unlike covariance, correlation values range between -1 and 1, \n",
    "making it easier to interpret and compare across different datasets. A correlation of +1 indicates \n",
    "a perfect positive linear relationship, -1 indicates a perfect negative linear relationship, \n",
    "and 0 indicates no linear relationship between the variables.\n",
    "\n",
    "Calculation: Pearson correlation coefficient (commonly used) is calculated as follows:\n",
    "Corr(X, Y) = Cov(X, Y) / (σₓ * σᵧ)\n",
    "\n",
    "where Cov(X, Y) is the covariance between X and Y, σₓ is the standard deviation of X, and σᵧ is the standard deviation of Y.\n",
    "\n",
    "In Statistical Analysis:\n",
    "\n",
    "Covariance: Covariance is useful for understanding the direction of the relationship between two variables, \n",
    "            but it doesn't provide a clear indication of the strength of the relationship. It is often used \n",
    "            to measure the relationship between two variables before standardization.\n",
    "Correlation: Correlation is widely used in statistical analysis because it provides a standardized measure \n",
    "             of the strength and direction of the linear relationship between two variables. It helps \n",
    "             researchers and analysts assess the degree of association between variables, identify patterns, \n",
    "             and make predictions. The Pearson correlation coefficient is commonly used, but there are other \n",
    "             correlation coefficients (e.g., Spearman's rank correlation) suitable for different types of data.\n",
    "\"\"\""
   ]
  },
  {
   "cell_type": "markdown",
   "id": "6b586398-61f6-498c-8e70-ae1e1af9dac1",
   "metadata": {},
   "source": [
    "Q11. What is the formula for calculating the sample mean? Provide an example calculation for a\n",
    "dataset."
   ]
  },
  {
   "cell_type": "code",
   "execution_count": 12,
   "id": "5ca3a4f0-cb72-4f28-9090-f3dc8fe67589",
   "metadata": {},
   "outputs": [
    {
     "name": "stdout",
     "output_type": "stream",
     "text": [
      "Sample Mean: 85.83333333333333\n"
     ]
    }
   ],
   "source": [
    "\"\"\"\n",
    "The formula for calculating the sample mean (also known as the sample average) is as follows:\n",
    "\n",
    "Sample Mean (x̄) = (Sum of all data points) / (Number of data points)\n",
    "\n",
    "In mathematical notation:\n",
    "x̄ = (Σx) / n\n",
    "\n",
    "where:\n",
    "x̄ = Sample mean\n",
    "Σx = Sum of all data points\n",
    "n = Number of data points in the dataset\n",
    "\"\"\"\n",
    "\n",
    "# Sample dataset\n",
    "dataset = [85, 90, 78, 92, 88, 82]\n",
    "\n",
    "# Calculate the sample mean\n",
    "sample_mean = sum(dataset) / len(dataset)\n",
    "\n",
    "print(\"Sample Mean:\", sample_mean)"
   ]
  },
  {
   "cell_type": "markdown",
   "id": "4149a318-d44b-44c5-bd71-9ffa770eae3c",
   "metadata": {},
   "source": [
    "Q12. For a normal distribution data what is the relationship between its measure of central tendency?"
   ]
  },
  {
   "cell_type": "code",
   "execution_count": null,
   "id": "b983aa0a-ac73-4a9f-94fd-2a001395b288",
   "metadata": {},
   "outputs": [],
   "source": [
    "\"\"\"\n",
    "For a normal distribution, the relationship between its measures of central tendency \n",
    "(mean, median, and mode) is straightforward:\n",
    "\n",
    "Mean, Median, and Mode are Equal: In a perfectly symmetrical normal distribution, the mean, median, and \n",
    "                                  mode are all equal to the same value. This is because the normal distribution \n",
    "                                  is symmetric around its mean, and the peak (mode) is at the center of the distribution.\n",
    "\n",
    "Mean = Median = Mode: This relationship holds for any normal distribution, regardless of its mean or standard deviation. \n",
    "                      Whether the normal distribution is centered at 0 or any other value, the mean, median, and \n",
    "                      mode will always be the same.\n",
    "\"\"\""
   ]
  },
  {
   "cell_type": "markdown",
   "id": "6160cd5a-201b-4048-880d-fe6d965c862e",
   "metadata": {},
   "source": [
    "Q13. How is covariance different from correlation?"
   ]
  },
  {
   "cell_type": "code",
   "execution_count": null,
   "id": "c0487dc9-b07c-401f-a303-0495d4cddadd",
   "metadata": {},
   "outputs": [],
   "source": [
    "\"\"\"\n",
    "covariance and correlation both measure the relationship between two variables, \n",
    "but correlation is preferred in statistical analysis due to its standardized \n",
    "nature and ease of interpretation. Correlation provides a clear and comparable \n",
    "measure of the strength and direction of the linear relationship, making it more \n",
    "useful in many practical scenarios.\n",
    "\"\"\""
   ]
  },
  {
   "cell_type": "markdown",
   "id": "9cdeec33-0048-41ca-8833-d4e53c59839b",
   "metadata": {},
   "source": [
    "Q14. How do outliers affect measures of central tendency and dispersion? Provide an example."
   ]
  },
  {
   "cell_type": "code",
   "execution_count": null,
   "id": "40845b04-0b04-4b5e-899c-a89673b4ce0c",
   "metadata": {},
   "outputs": [],
   "source": [
    "\"\"\"\n",
    "Outliers can significantly affect measures of central tendency and dispersion in a dataset, \n",
    "potentially leading to misleading or inaccurate conclusions about the data.\n",
    "\n",
    "Measures of Central Tendency (Mean, Median, Mode):\n",
    "\n",
    "  Mean: Outliers can pull the mean towards their direction, especially if they are extreme values. \n",
    "        This can result in an inflated or deflated mean, depending on whether the outliers are larger \n",
    "        or smaller than the rest of the data.\n",
    "Median: The median is less affected by outliers because it is not influenced by the actual values \n",
    "        but rather by the position of the data points. As a result, the median provides a more robust \n",
    "        measure of the central tendency when outliers are present.\n",
    "  Mode: The mode is not directly impacted by outliers as it only represents the most frequent value(s) \n",
    "        in the dataset. Outliers may not alter the mode unless they drastically change the distribution \n",
    "        of the data.\n",
    "\"\"\"\n",
    "\n"
   ]
  },
  {
   "cell_type": "code",
   "execution_count": null,
   "id": "cab1d26f-1978-4fdc-b355-2c486bc75f92",
   "metadata": {},
   "outputs": [],
   "source": []
  }
 ],
 "metadata": {
  "kernelspec": {
   "display_name": "Python 3 (ipykernel)",
   "language": "python",
   "name": "python3"
  },
  "language_info": {
   "codemirror_mode": {
    "name": "ipython",
    "version": 3
   },
   "file_extension": ".py",
   "mimetype": "text/x-python",
   "name": "python",
   "nbconvert_exporter": "python",
   "pygments_lexer": "ipython3",
   "version": "3.10.8"
  }
 },
 "nbformat": 4,
 "nbformat_minor": 5
}
