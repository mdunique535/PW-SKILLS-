{
 "cells": [
  {
   "cell_type": "markdown",
   "id": "ec8c4f8f-f1e3-4ef2-8144-935a04fde1d3",
   "metadata": {},
   "source": [
    "Q1. What is Statistics?"
   ]
  },
  {
   "cell_type": "code",
   "execution_count": null,
   "id": "adb53351-2a7f-4d8c-b46e-529fb75689c3",
   "metadata": {},
   "outputs": [],
   "source": [
    "# it is branch of science which deals with the organising , describing and summarising the data ."
   ]
  },
  {
   "cell_type": "markdown",
   "id": "0d54a876-ff42-4998-8df7-6b185971077d",
   "metadata": {},
   "source": [
    "Q2. Define the different types of statistics and give an example of when each type might be used."
   ]
  },
  {
   "cell_type": "code",
   "execution_count": 1,
   "id": "47b3a2fc-1a90-4bfb-89e4-4788e76b673a",
   "metadata": {},
   "outputs": [],
   "source": [
    "# there are two type of statistic :-\n",
    "\n",
    "# 1) Descriptive Statistic\n",
    "# 2) Inferential Statistic \n",
    "\n",
    "\"\"\"\n",
    "Descriptive Statistics: Descriptive statistics involve summarizing and describing the main features of a dataset \n",
    "                        using measures such as central tendency (mean, median, mode), dispersion (standard deviation, \n",
    "                        range, interquartile range), and visual representations like graphs and charts. Descriptive \n",
    "                        statistics provide a way to understand and communicate the basic characteristics of a dataset \n",
    "                        without making any inferences beyond the data itself.\n",
    "                        \n",
    "               Example: Let's say a company wants to analyze the sales data of its products for the past year. \n",
    "                        They might calculate the average monthly sales (mean) and the variation in sales \n",
    "                        (standard deviation) to understand the typical performance of their products and how \n",
    "                        consistent the sales have been throughout the year.\n",
    "\n",
    "Inferential Statistics: Inferential statistics involve drawing conclusions or making predictions about a larger \n",
    "                        population based on a sample of data. It uses probability theory to make inferences about \n",
    "                        parameters, test hypotheses, and estimate population characteristics. The goal is to make \n",
    "                        generalizations and predictions from a sample to a larger population.\n",
    "                        \n",
    "               Example: A political exitpolls wants to estimate the proportion of voters who support a particular \n",
    "                        candidate in an upcoming election. Instead of surveying every voter (population), they take \n",
    "                        a random sample of voters and use inferential statistics to calculate a confidence interval \n",
    "                        for the candidate's support, which allows them to estimate the likely range of support in \n",
    "                        the entire population.\n",
    "\n",
    "\"\"\""
   ]
  },
  {
   "cell_type": "markdown",
   "id": "de66f0d0-347c-451d-8807-99bc35f8c32c",
   "metadata": {},
   "source": [
    "Q3. What are the different types of data and how do they differ from each other? Provide an example of\n",
    "each type of data."
   ]
  },
  {
   "cell_type": "code",
   "execution_count": null,
   "id": "d8975d60-3784-410e-961e-f076c7d3a591",
   "metadata": {},
   "outputs": [],
   "source": [
    "\"\"\"\n",
    "There are various types of data are there :-\n",
    "\n",
    "1) Quantitative Data :\n",
    "    a) Descrete \n",
    "    b) Continuous\n",
    "\n",
    "2) Qualitative Data :\n",
    "    a) Nominal\n",
    "    b) Ordinal\n",
    "    \n",
    "Definition of each data types :- \n",
    "\n",
    "1) Quantitative Data :- in this data numeric values are present and further they are divided into two subcategory.\n",
    "\n",
    "    a) Decrete Data :- it consists of a whole number or disticnt number.\n",
    "     \n",
    "            Example :- Number of students in a class\n",
    "            \n",
    "    b) Continuous Data :- it consits of a number in deimal points or an unbroken range of values.\n",
    "     \n",
    "            Example :- Weight and Height of Students.\n",
    "            \n",
    "1) Qualitative Data :- in this data non-numeric descriptions or characteristics are involved and further they are \n",
    "                       divided into two subcategory.\n",
    "\n",
    "    a) Nominal Data :- Nominal data are categories without any inherent order.\n",
    "     \n",
    "            Example :- Colors of fruits (e.g., red, green, blue).\n",
    "            \n",
    "    b) Ordinal Data :- ordinal data represent categories with a meaningful order.\n",
    "     \n",
    "            Example :- Educational levels (e.g., high school, bachelor's degree, master's degree).\n",
    "       \n",
    "\"\"\""
   ]
  },
  {
   "cell_type": "markdown",
   "id": "e03bf930-a248-47c3-99e7-16287f7440b4",
   "metadata": {},
   "source": [
    "Q4. Categorise the following datasets with respect to quantitative and qualitative data types:\n",
    "(i) Grading in exam: A+, A, B+, B, C+, C, D, E\n",
    "(ii) Colour of mangoes: yellow, green, orange, red\n",
    "(iii) Height data of a class: [178.9, 179, 179.5, 176, 177.2, 178.3, 175.8,...]\n",
    "(iv) Number of mangoes exported by a farm: [500, 600, 478, 672, ...]"
   ]
  },
  {
   "cell_type": "code",
   "execution_count": null,
   "id": "561b54e3-9bcb-44e1-b3a4-6bcaf9583cc9",
   "metadata": {},
   "outputs": [],
   "source": [
    "\"\"\"\n",
    "(i) Grading in exam:\n",
    "Qualitative data (Ordinal Data ) - The grades A+, A, B+, B, C+, C, D, E represent distinct categories without inherent \n",
    "                                   numerical values or order.\n",
    "\n",
    "(ii) Colour of mangoes:\n",
    "Qualitative data (Nominal Data) - The colors yellow, green, orange, and red represent distinct categories without numerical \n",
    "                                  values or order.\n",
    "\n",
    "(iii) Height data of a class: [178.9, 179, 179.5, 176, 177.2, 178.3, 175.8,...]\n",
    "Quantitative data (Continuous Data) - The heights are represented by numerical measurements and form a continuous range \n",
    "                                      of values with decimal points.\n",
    "\n",
    "(iv) Number of mangoes exported by a farm: [500, 600, 478, 672, ...]\n",
    "Quantitative data (Discrete Data) - The number of mangoes is represented by numerical measurements, forming a discrete \n",
    "                                    set of whole numbers.\n",
    "\"\"\""
   ]
  },
  {
   "cell_type": "markdown",
   "id": "a249d060-debf-4a39-a742-fcc408ab7abb",
   "metadata": {},
   "source": [
    "Q5. Explain the concept of levels of measurement and give an example of a variable for each level."
   ]
  },
  {
   "cell_type": "code",
   "execution_count": null,
   "id": "5bdbbaf4-e5c0-4f38-a567-d6f211af0da2",
   "metadata": {},
   "outputs": [],
   "source": [
    "\"\"\"\n",
    "Nominal Level: At the nominal level, variables are categorized into distinct groups or categories with no \n",
    "               inherent order or numerical value associated with them.\n",
    "      Example: Eye color of individuals (e.g., blue, brown, green). Each individual falls into one of the \n",
    "               distinct categories, but there is no natural order or numeric value attached to the eye colors.\n",
    " \n",
    "Ordinal Level: Ordinal level variables have categories with a meaningful order or ranking between them, but \n",
    "               the differences between the categories may not be uniform or quantifiable.\n",
    "      Example: Educational attainment levels (e.g., high school, bachelor's degree, master's degree). While \n",
    "               there is a clear order, the difference between high school and a bachelor's degree may not be \n",
    "               the same as the difference between a bachelor's degree and a master's degree.\n",
    "\n",
    "Interval Level: Interval level variables have a meaningful order between the values, and the differences between \n",
    "                the values are uniform and quantifiable. However, there is no true zero point.\n",
    "       Example: Celsius temperature scale. The difference between 20°C and 30°C is the same as the difference \n",
    "                between 30°C and 40°C, but 0°C does not represent a complete absence of temperature.\n",
    "\n",
    "Ratio Level: Ratio level variables have all the properties of interval level data, but they also have a true \n",
    "             zero point, which indicates a complete absence of the characteristic being measured. Ratios between \n",
    "             values are meaningful, and arithmetic operations can be performed on the data.\n",
    "    Example: Weight of individuals in kilograms. Here, a weight of 0 kg indicates a complete absence of weight, \n",
    "             and ratios like one person being twice as heavy as another make sense in this context.\n",
    "\"\"\""
   ]
  },
  {
   "cell_type": "markdown",
   "id": "0ec714c8-d51b-454c-a0a3-2af7563d0b0a",
   "metadata": {},
   "source": [
    "Q6. Why is it important to understand the level of measurement when analyzing data? Provide an\n",
    "example to illustrate your answer."
   ]
  },
  {
   "cell_type": "code",
   "execution_count": null,
   "id": "ef9aea00-a33c-4f8b-9fd1-26752acb0522",
   "metadata": {},
   "outputs": [],
   "source": [
    "\"\"\"\n",
    "Understanding the level of measurement is crucial when analyzing data because it determines the \n",
    "appropriate statistical techniques and operations that can be applied to the data. Using the wrong \n",
    "analysis method for a particular level of measurement can lead to inaccurate or misleading results.\n",
    "\n",
    "Example:\n",
    "Let's consider a scenario where we have data on the favorite colors of individuals and their ages.\n",
    "\n",
    "Favorite colors (Nominal level):\n",
    "If we want to analyze the favorite colors of individuals, we can calculate the frequencies or percentages \n",
    "of each color, create bar charts, or perform a chi-square test to determine if there are any significant \n",
    "associations between favorite colors and other categorical variables. However, calculating the mean or \n",
    "standard deviation for favorite colors is meaningless since there is no numeric value associated with the categories.\n",
    "\n",
    "Ages (Ratio level):\n",
    "For the age data, we can calculate the mean, median, and standard deviation to understand the central tendency \n",
    "and spread of the age distribution. Additionally, we can perform regression analysis, t-tests, or ANOVA to \n",
    "examine relationships between age and other numeric variables. Moreover, we can compute ratios, such as the \n",
    "ratio of the average age in one group to another, which will provide meaningful insights.\n",
    "\n",
    "Suppose we mistakenly analyze favorite colors using techniques meant for ratio-level data and calculate the \n",
    "average favorite color as \"3.4.\" This number has no real-world meaning as there is no inherent order or numerical \n",
    "value associated with favorite colors. Similarly, if we use nominal-level analysis techniques for age data, \n",
    "it would be an inappropriate and insufficient way to understand age-related patterns or associations.\n",
    "\"\"\""
   ]
  },
  {
   "cell_type": "markdown",
   "id": "fd32913f-860c-42fe-9864-23384710208d",
   "metadata": {},
   "source": [
    "Q7. How nominal data type is different from ordinal data type."
   ]
  },
  {
   "cell_type": "code",
   "execution_count": null,
   "id": "83790ea1-5509-48b6-a6a9-a008e4a82c22",
   "metadata": {},
   "outputs": [],
   "source": [
    "\"\"\"\n",
    "Nominal Data :- in this data type rank is mot associated with them.for example gender (male , female)\n",
    "\n",
    "Ordinal Data :- In this data type rank is associated with them. for example customer feedback (good, better, bad)\n",
    "\"\"\""
   ]
  },
  {
   "cell_type": "markdown",
   "id": "eaa0199f-e656-4e17-b12f-faa666598560",
   "metadata": {},
   "source": [
    "Q8. Which type of plot can be used to display data in terms of range?"
   ]
  },
  {
   "cell_type": "code",
   "execution_count": null,
   "id": "59699bb1-6cf1-441d-b2df-de15e936a576",
   "metadata": {},
   "outputs": [],
   "source": [
    " # Box Plot can be used to display data in terms of range."
   ]
  },
  {
   "cell_type": "markdown",
   "id": "e6a7d7a9-d433-463e-8648-20e116bcd0e5",
   "metadata": {},
   "source": [
    "Q9. Describe the difference between descriptive and inferential statistics. Give an example of each\n",
    "type of statistics and explain how they are used."
   ]
  },
  {
   "cell_type": "code",
   "execution_count": null,
   "id": "de561b68-8c6c-43e2-b13f-46f3329bfa9d",
   "metadata": {},
   "outputs": [],
   "source": [
    "\"\"\"\n",
    "Descriptive Statistics: Descriptive statistics involve summarizing and describing the main features of a dataset \n",
    "                        using measures such as central tendency (mean, median, mode), dispersion (standard deviation, \n",
    "                        range, interquartile range), and visual representations like graphs and charts. Descriptive \n",
    "                        statistics provide a way to understand and communicate the basic characteristics of a dataset \n",
    "                        without making any inferences beyond the data itself.\n",
    "                        \n",
    "               Example: Let's say a company wants to analyze the sales data of its products for the past year. \n",
    "                        They might calculate the average monthly sales (mean) and the variation in sales \n",
    "                        (standard deviation) to understand the typical performance of their products and how \n",
    "                        consistent the sales have been throughout the year.\n",
    "\n",
    "Inferential Statistics: Inferential statistics involve drawing conclusions or making predictions about a larger \n",
    "                        population based on a sample of data. It uses probability theory to make inferences about \n",
    "                        parameters, test hypotheses, and estimate population characteristics. The goal is to make \n",
    "                        generalizations and predictions from a sample to a larger population.\n",
    "                        \n",
    "               Example: A political exitpolls wants to estimate the proportion of voters who support a particular \n",
    "                        candidate in an upcoming election. Instead of surveying every voter (population), they take \n",
    "                        a random sample of voters and use inferential statistics to calculate a confidence interval \n",
    "                        for the candidate's support, which allows them to estimate the likely range of support in \n",
    "                        the entire population.\n",
    "\"\"\""
   ]
  },
  {
   "cell_type": "markdown",
   "id": "2137bc65-9b8e-4191-8b06-20164fe1fac1",
   "metadata": {},
   "source": [
    "Q10. What are some common measures of central tendency and variability used in statistics? Explain\n",
    "how each measure can be used to describe a dataset."
   ]
  },
  {
   "cell_type": "code",
   "execution_count": null,
   "id": "27a45307-eafc-442e-8355-bf9e3401de68",
   "metadata": {},
   "outputs": [],
   "source": [
    "\"\"\"\n",
    "Measures of Central Tendency:\n",
    "\n",
    "a) Mean: The mean is the arithmetic average of a dataset. It is calculated by summing all the data values \n",
    "         and dividing by the total number of values. The mean is sensitive to outliers.\n",
    "\n",
    "b) Median: The median is the middle value in an ordered dataset. If the dataset has an odd number of values, \n",
    "           the median is the middle value. If the dataset has an even number of values, the median is the \n",
    "           average of the two middle values. The median is resistant to outliers and provides a measure \n",
    "           of the central value of the data.\n",
    "\n",
    "c) Mode: The mode is the value that appears most frequently in a dataset. A dataset can have one mode (unimodal), \n",
    "         two modes (bimodal), or more (multimodal). The mode is useful for categorical data and may also provide \n",
    "         insights into the most common value in a dataset.\n",
    "\n",
    "Measures of Variability (Dispersion):\n",
    "\n",
    "a) Range: The range is the difference between the maximum and minimum values in a dataset. It gives a simple \n",
    "          measure of the spread of data but is highly affected by outliers and doesn't provide information \n",
    "          about the distribution within the dataset.\n",
    "\n",
    "b) Variance: Variance is the average of the squared differences between each data point and the mean. \n",
    "             It measures how much the data points deviate from the mean. A higher variance indicates \n",
    "             a greater spread of data points from the mean.\n",
    "\n",
    "c) Standard Deviation: The standard deviation is the square root of the variance. It is widely used \n",
    "                       as a measure of the spread or dispersion of data points around the mean. A \n",
    "                       smaller standard deviation indicates a more concentrated distribution, while \n",
    "                       a larger standard deviation indicates a more spread-out distribution.\n",
    "\"\"\""
   ]
  }
 ],
 "metadata": {
  "kernelspec": {
   "display_name": "Python 3 (ipykernel)",
   "language": "python",
   "name": "python3"
  },
  "language_info": {
   "codemirror_mode": {
    "name": "ipython",
    "version": 3
   },
   "file_extension": ".py",
   "mimetype": "text/x-python",
   "name": "python",
   "nbconvert_exporter": "python",
   "pygments_lexer": "ipython3",
   "version": "3.10.8"
  }
 },
 "nbformat": 4,
 "nbformat_minor": 5
}
